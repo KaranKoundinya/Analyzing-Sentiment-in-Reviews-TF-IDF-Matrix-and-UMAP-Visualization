{
  "nbformat": 4,
  "nbformat_minor": 0,
  "metadata": {
    "colab": {
      "provenance": []
    },
    "kernelspec": {
      "name": "python3",
      "display_name": "Python 3"
    },
    "language_info": {
      "name": "python"
    }
  },
  "cells": [
    {
      "cell_type": "markdown",
      "source": [
        "\n",
        "##Generate a labelled 1000-row text dataset using OpenAI’s ChatGPT. This dataset should contain positive and negative reviews of something (e.g, you could ask ChatGPT to generate positive/ negative movie reviews, or positive/ negative smartphone reviews, etc) You might have to run your prompt multiple times to compile a 1000-row dataset as ChatGPT won’t give you 1000 reviews in one go. Name this dataset Reviews.csv"
      ],
      "metadata": {
        "id": "q20Frn25IPzv"
      }
    },
    {
      "cell_type": "markdown",
      "source": [
        "###**Importing Library**### "
      ],
      "metadata": {
        "id": "--ultxZwKAlZ"
      }
    },
    {
      "cell_type": "code",
      "source": [
        "!pip3 install umap-learn\n",
        "import re, nltk\n",
        "nltk.download('punkt')\n",
        "nltk.download('stopwords')\n",
        "nltk.download('omw-1.4')\n",
        "nltk.download('wordnet')\n",
        "import numpy as np\n",
        "import pandas as pd\n",
        "from bs4 import BeautifulSoup\n",
        "from nltk.stem import WordNetLemmatizer\n",
        "from nltk.corpus import stopwords\n",
        "from sklearn.feature_extraction.text import TfidfVectorizer\n",
        "import plotly.graph_objs as go\n",
        "import plotly.figure_factory as ff\n",
        "import umap\n",
        "from matplotlib import pyplot as plt\n",
        "from umap import UMAP\n",
        "!pip install umap-learn[plot]\n",
        "!pip install holoviews\n",
        "!pip install -U ipykernel\n"
      ],
      "metadata": {
        "colab": {
          "base_uri": "https://localhost:8080/"
        },
        "id": "GnLLT_nzQr3P",
        "outputId": "5ba189cc-2a4d-482b-eaa4-36a55f1b7b8f"
      },
      "execution_count": null,
      "outputs": [
        {
          "output_type": "stream",
          "name": "stdout",
          "text": [
            "Looking in indexes: https://pypi.org/simple, https://us-python.pkg.dev/colab-wheels/public/simple/\n",
            "Requirement already satisfied: umap-learn in /usr/local/lib/python3.9/dist-packages (0.5.3)\n",
            "Requirement already satisfied: numpy>=1.17 in /usr/local/lib/python3.9/dist-packages (from umap-learn) (1.22.4)\n",
            "Requirement already satisfied: scikit-learn>=0.22 in /usr/local/lib/python3.9/dist-packages (from umap-learn) (1.2.2)\n",
            "Requirement already satisfied: scipy>=1.0 in /usr/local/lib/python3.9/dist-packages (from umap-learn) (1.10.1)\n",
            "Requirement already satisfied: pynndescent>=0.5 in /usr/local/lib/python3.9/dist-packages (from umap-learn) (0.5.10)\n",
            "Requirement already satisfied: numba>=0.49 in /usr/local/lib/python3.9/dist-packages (from umap-learn) (0.56.4)\n",
            "Requirement already satisfied: tqdm in /usr/local/lib/python3.9/dist-packages (from umap-learn) (4.65.0)\n",
            "Requirement already satisfied: llvmlite<0.40,>=0.39.0dev0 in /usr/local/lib/python3.9/dist-packages (from numba>=0.49->umap-learn) (0.39.1)\n",
            "Requirement already satisfied: setuptools in /usr/local/lib/python3.9/dist-packages (from numba>=0.49->umap-learn) (67.6.1)\n",
            "Requirement already satisfied: joblib>=0.11 in /usr/local/lib/python3.9/dist-packages (from pynndescent>=0.5->umap-learn) (1.2.0)\n",
            "Requirement already satisfied: threadpoolctl>=2.0.0 in /usr/local/lib/python3.9/dist-packages (from scikit-learn>=0.22->umap-learn) (3.1.0)\n"
          ]
        },
        {
          "output_type": "stream",
          "name": "stderr",
          "text": [
            "[nltk_data] Downloading package punkt to /root/nltk_data...\n",
            "[nltk_data]   Package punkt is already up-to-date!\n",
            "[nltk_data] Downloading package stopwords to /root/nltk_data...\n",
            "[nltk_data]   Package stopwords is already up-to-date!\n",
            "[nltk_data] Downloading package omw-1.4 to /root/nltk_data...\n",
            "[nltk_data]   Package omw-1.4 is already up-to-date!\n",
            "[nltk_data] Downloading package wordnet to /root/nltk_data...\n",
            "[nltk_data]   Package wordnet is already up-to-date!\n",
            "2023-04-23 21:23:45.719484: I tensorflow/core/platform/cpu_feature_guard.cc:182] This TensorFlow binary is optimized to use available CPU instructions in performance-critical operations.\n",
            "To enable the following instructions: AVX2 FMA, in other operations, rebuild TensorFlow with the appropriate compiler flags.\n",
            "2023-04-23 21:23:50.941708: W tensorflow/compiler/tf2tensorrt/utils/py_utils.cc:38] TF-TRT Warning: Could not find TensorRT\n"
          ]
        },
        {
          "output_type": "stream",
          "name": "stdout",
          "text": [
            "Looking in indexes: https://pypi.org/simple, https://us-python.pkg.dev/colab-wheels/public/simple/\n",
            "Requirement already satisfied: umap-learn[plot] in /usr/local/lib/python3.9/dist-packages (0.5.3)\n",
            "Requirement already satisfied: numpy>=1.17 in /usr/local/lib/python3.9/dist-packages (from umap-learn[plot]) (1.22.4)\n",
            "Requirement already satisfied: numba>=0.49 in /usr/local/lib/python3.9/dist-packages (from umap-learn[plot]) (0.56.4)\n",
            "Requirement already satisfied: pynndescent>=0.5 in /usr/local/lib/python3.9/dist-packages (from umap-learn[plot]) (0.5.10)\n",
            "Requirement already satisfied: scipy>=1.0 in /usr/local/lib/python3.9/dist-packages (from umap-learn[plot]) (1.10.1)\n",
            "Requirement already satisfied: scikit-learn>=0.22 in /usr/local/lib/python3.9/dist-packages (from umap-learn[plot]) (1.2.2)\n",
            "Requirement already satisfied: tqdm in /usr/local/lib/python3.9/dist-packages (from umap-learn[plot]) (4.65.0)\n",
            "Requirement already satisfied: holoviews in /usr/local/lib/python3.9/dist-packages (from umap-learn[plot]) (1.15.4)\n",
            "Requirement already satisfied: colorcet in /usr/local/lib/python3.9/dist-packages (from umap-learn[plot]) (3.0.1)\n",
            "Requirement already satisfied: pandas in /usr/local/lib/python3.9/dist-packages (from umap-learn[plot]) (1.5.3)\n",
            "Requirement already satisfied: seaborn in /usr/local/lib/python3.9/dist-packages (from umap-learn[plot]) (0.12.2)\n",
            "Requirement already satisfied: scikit-image in /usr/local/lib/python3.9/dist-packages (from umap-learn[plot]) (0.19.3)\n",
            "Requirement already satisfied: bokeh in /usr/local/lib/python3.9/dist-packages (from umap-learn[plot]) (2.4.3)\n",
            "Requirement already satisfied: datashader in /usr/local/lib/python3.9/dist-packages (from umap-learn[plot]) (0.14.4)\n",
            "Requirement already satisfied: matplotlib in /usr/local/lib/python3.9/dist-packages (from umap-learn[plot]) (3.7.1)\n",
            "Requirement already satisfied: setuptools in /usr/local/lib/python3.9/dist-packages (from numba>=0.49->umap-learn[plot]) (67.6.1)\n",
            "Requirement already satisfied: llvmlite<0.40,>=0.39.0dev0 in /usr/local/lib/python3.9/dist-packages (from numba>=0.49->umap-learn[plot]) (0.39.1)\n",
            "Requirement already satisfied: joblib>=0.11 in /usr/local/lib/python3.9/dist-packages (from pynndescent>=0.5->umap-learn[plot]) (1.2.0)\n",
            "Requirement already satisfied: threadpoolctl>=2.0.0 in /usr/local/lib/python3.9/dist-packages (from scikit-learn>=0.22->umap-learn[plot]) (3.1.0)\n",
            "Requirement already satisfied: Jinja2>=2.9 in /usr/local/lib/python3.9/dist-packages (from bokeh->umap-learn[plot]) (3.1.2)\n",
            "Requirement already satisfied: tornado>=5.1 in /usr/local/lib/python3.9/dist-packages (from bokeh->umap-learn[plot]) (6.2)\n",
            "Requirement already satisfied: packaging>=16.8 in /usr/local/lib/python3.9/dist-packages (from bokeh->umap-learn[plot]) (23.1)\n",
            "Requirement already satisfied: pillow>=7.1.0 in /usr/local/lib/python3.9/dist-packages (from bokeh->umap-learn[plot]) (8.4.0)\n",
            "Requirement already satisfied: typing-extensions>=3.10.0 in /usr/local/lib/python3.9/dist-packages (from bokeh->umap-learn[plot]) (4.5.0)\n",
            "Requirement already satisfied: PyYAML>=3.10 in /usr/local/lib/python3.9/dist-packages (from bokeh->umap-learn[plot]) (6.0)\n",
            "Requirement already satisfied: pyct>=0.4.4 in /usr/local/lib/python3.9/dist-packages (from colorcet->umap-learn[plot]) (0.5.0)\n",
            "Requirement already satisfied: requests in /usr/local/lib/python3.9/dist-packages (from datashader->umap-learn[plot]) (2.27.1)\n",
            "Requirement already satisfied: xarray in /usr/local/lib/python3.9/dist-packages (from datashader->umap-learn[plot]) (2022.12.0)\n",
            "Requirement already satisfied: dask in /usr/local/lib/python3.9/dist-packages (from datashader->umap-learn[plot]) (2022.12.1)\n",
            "Requirement already satisfied: param in /usr/local/lib/python3.9/dist-packages (from datashader->umap-learn[plot]) (1.13.0)\n",
            "Requirement already satisfied: toolz in /usr/local/lib/python3.9/dist-packages (from datashader->umap-learn[plot]) (0.12.0)\n",
            "Requirement already satisfied: datashape in /usr/local/lib/python3.9/dist-packages (from datashader->umap-learn[plot]) (0.5.2)\n",
            "Requirement already satisfied: pyviz-comms>=0.7.4 in /usr/local/lib/python3.9/dist-packages (from holoviews->umap-learn[plot]) (2.2.1)\n",
            "Requirement already satisfied: panel>=0.13.1 in /usr/local/lib/python3.9/dist-packages (from holoviews->umap-learn[plot]) (0.14.4)\n",
            "Requirement already satisfied: pytz>=2020.1 in /usr/local/lib/python3.9/dist-packages (from pandas->umap-learn[plot]) (2022.7.1)\n",
            "Requirement already satisfied: python-dateutil>=2.8.1 in /usr/local/lib/python3.9/dist-packages (from pandas->umap-learn[plot]) (2.8.2)\n",
            "Requirement already satisfied: kiwisolver>=1.0.1 in /usr/local/lib/python3.9/dist-packages (from matplotlib->umap-learn[plot]) (1.4.4)\n",
            "Requirement already satisfied: cycler>=0.10 in /usr/local/lib/python3.9/dist-packages (from matplotlib->umap-learn[plot]) (0.11.0)\n",
            "Requirement already satisfied: pyparsing>=2.3.1 in /usr/local/lib/python3.9/dist-packages (from matplotlib->umap-learn[plot]) (3.0.9)\n",
            "Requirement already satisfied: importlib-resources>=3.2.0 in /usr/local/lib/python3.9/dist-packages (from matplotlib->umap-learn[plot]) (5.12.0)\n",
            "Requirement already satisfied: contourpy>=1.0.1 in /usr/local/lib/python3.9/dist-packages (from matplotlib->umap-learn[plot]) (1.0.7)\n",
            "Requirement already satisfied: fonttools>=4.22.0 in /usr/local/lib/python3.9/dist-packages (from matplotlib->umap-learn[plot]) (4.39.3)\n",
            "Requirement already satisfied: PyWavelets>=1.1.1 in /usr/local/lib/python3.9/dist-packages (from scikit-image->umap-learn[plot]) (1.4.1)\n",
            "Requirement already satisfied: imageio>=2.4.1 in /usr/local/lib/python3.9/dist-packages (from scikit-image->umap-learn[plot]) (2.25.1)\n",
            "Requirement already satisfied: networkx>=2.2 in /usr/local/lib/python3.9/dist-packages (from scikit-image->umap-learn[plot]) (3.1)\n",
            "Requirement already satisfied: tifffile>=2019.7.26 in /usr/local/lib/python3.9/dist-packages (from scikit-image->umap-learn[plot]) (2023.4.12)\n",
            "Requirement already satisfied: zipp>=3.1.0 in /usr/local/lib/python3.9/dist-packages (from importlib-resources>=3.2.0->matplotlib->umap-learn[plot]) (3.15.0)\n",
            "Requirement already satisfied: MarkupSafe>=2.0 in /usr/local/lib/python3.9/dist-packages (from Jinja2>=2.9->bokeh->umap-learn[plot]) (2.1.2)\n",
            "Requirement already satisfied: bleach in /usr/local/lib/python3.9/dist-packages (from panel>=0.13.1->holoviews->umap-learn[plot]) (6.0.0)\n",
            "Requirement already satisfied: markdown in /usr/local/lib/python3.9/dist-packages (from panel>=0.13.1->holoviews->umap-learn[plot]) (3.4.3)\n",
            "Requirement already satisfied: six>=1.5 in /usr/local/lib/python3.9/dist-packages (from python-dateutil>=2.8.1->pandas->umap-learn[plot]) (1.16.0)\n",
            "Requirement already satisfied: click>=7.0 in /usr/local/lib/python3.9/dist-packages (from dask->datashader->umap-learn[plot]) (8.1.3)\n",
            "Requirement already satisfied: cloudpickle>=1.1.1 in /usr/local/lib/python3.9/dist-packages (from dask->datashader->umap-learn[plot]) (2.2.1)\n",
            "Requirement already satisfied: partd>=0.3.10 in /usr/local/lib/python3.9/dist-packages (from dask->datashader->umap-learn[plot]) (1.4.0)\n",
            "Requirement already satisfied: fsspec>=0.6.0 in /usr/local/lib/python3.9/dist-packages (from dask->datashader->umap-learn[plot]) (2023.4.0)\n",
            "Requirement already satisfied: multipledispatch>=0.4.7 in /usr/local/lib/python3.9/dist-packages (from datashape->datashader->umap-learn[plot]) (0.6.0)\n",
            "Requirement already satisfied: certifi>=2017.4.17 in /usr/local/lib/python3.9/dist-packages (from requests->datashader->umap-learn[plot]) (2022.12.7)\n",
            "Requirement already satisfied: charset-normalizer~=2.0.0 in /usr/local/lib/python3.9/dist-packages (from requests->datashader->umap-learn[plot]) (2.0.12)\n",
            "Requirement already satisfied: urllib3<1.27,>=1.21.1 in /usr/local/lib/python3.9/dist-packages (from requests->datashader->umap-learn[plot]) (1.26.15)\n",
            "Requirement already satisfied: idna<4,>=2.5 in /usr/local/lib/python3.9/dist-packages (from requests->datashader->umap-learn[plot]) (3.4)\n",
            "Requirement already satisfied: locket in /usr/local/lib/python3.9/dist-packages (from partd>=0.3.10->dask->datashader->umap-learn[plot]) (1.0.0)\n",
            "Requirement already satisfied: webencodings in /usr/local/lib/python3.9/dist-packages (from bleach->panel>=0.13.1->holoviews->umap-learn[plot]) (0.5.1)\n",
            "Requirement already satisfied: importlib-metadata>=4.4 in /usr/local/lib/python3.9/dist-packages (from markdown->panel>=0.13.1->holoviews->umap-learn[plot]) (6.4.1)\n",
            "Looking in indexes: https://pypi.org/simple, https://us-python.pkg.dev/colab-wheels/public/simple/\n",
            "Requirement already satisfied: holoviews in /usr/local/lib/python3.9/dist-packages (1.15.4)\n",
            "Requirement already satisfied: packaging in /usr/local/lib/python3.9/dist-packages (from holoviews) (23.1)\n",
            "Requirement already satisfied: pandas>=0.20.0 in /usr/local/lib/python3.9/dist-packages (from holoviews) (1.5.3)\n",
            "Requirement already satisfied: param<2.0,>=1.9.3 in /usr/local/lib/python3.9/dist-packages (from holoviews) (1.13.0)\n",
            "Requirement already satisfied: pyviz-comms>=0.7.4 in /usr/local/lib/python3.9/dist-packages (from holoviews) (2.2.1)\n",
            "Requirement already satisfied: numpy>=1.0 in /usr/local/lib/python3.9/dist-packages (from holoviews) (1.22.4)\n",
            "Requirement already satisfied: colorcet in /usr/local/lib/python3.9/dist-packages (from holoviews) (3.0.1)\n",
            "Requirement already satisfied: panel>=0.13.1 in /usr/local/lib/python3.9/dist-packages (from holoviews) (0.14.4)\n",
            "Requirement already satisfied: pytz>=2020.1 in /usr/local/lib/python3.9/dist-packages (from pandas>=0.20.0->holoviews) (2022.7.1)\n",
            "Requirement already satisfied: python-dateutil>=2.8.1 in /usr/local/lib/python3.9/dist-packages (from pandas>=0.20.0->holoviews) (2.8.2)\n",
            "Requirement already satisfied: markdown in /usr/local/lib/python3.9/dist-packages (from panel>=0.13.1->holoviews) (3.4.3)\n",
            "Requirement already satisfied: setuptools>=42 in /usr/local/lib/python3.9/dist-packages (from panel>=0.13.1->holoviews) (67.6.1)\n",
            "Requirement already satisfied: bokeh<2.5.0,>=2.4.0 in /usr/local/lib/python3.9/dist-packages (from panel>=0.13.1->holoviews) (2.4.3)\n",
            "Requirement already satisfied: requests in /usr/local/lib/python3.9/dist-packages (from panel>=0.13.1->holoviews) (2.27.1)\n",
            "Requirement already satisfied: pyct>=0.4.4 in /usr/local/lib/python3.9/dist-packages (from panel>=0.13.1->holoviews) (0.5.0)\n",
            "Requirement already satisfied: bleach in /usr/local/lib/python3.9/dist-packages (from panel>=0.13.1->holoviews) (6.0.0)\n",
            "Requirement already satisfied: tqdm>=4.48.0 in /usr/local/lib/python3.9/dist-packages (from panel>=0.13.1->holoviews) (4.65.0)\n",
            "Requirement already satisfied: typing-extensions in /usr/local/lib/python3.9/dist-packages (from panel>=0.13.1->holoviews) (4.5.0)\n",
            "Requirement already satisfied: pillow>=7.1.0 in /usr/local/lib/python3.9/dist-packages (from bokeh<2.5.0,>=2.4.0->panel>=0.13.1->holoviews) (8.4.0)\n",
            "Requirement already satisfied: tornado>=5.1 in /usr/local/lib/python3.9/dist-packages (from bokeh<2.5.0,>=2.4.0->panel>=0.13.1->holoviews) (6.2)\n",
            "Requirement already satisfied: Jinja2>=2.9 in /usr/local/lib/python3.9/dist-packages (from bokeh<2.5.0,>=2.4.0->panel>=0.13.1->holoviews) (3.1.2)\n",
            "Requirement already satisfied: PyYAML>=3.10 in /usr/local/lib/python3.9/dist-packages (from bokeh<2.5.0,>=2.4.0->panel>=0.13.1->holoviews) (6.0)\n",
            "Requirement already satisfied: six>=1.5 in /usr/local/lib/python3.9/dist-packages (from python-dateutil>=2.8.1->pandas>=0.20.0->holoviews) (1.16.0)\n",
            "Requirement already satisfied: webencodings in /usr/local/lib/python3.9/dist-packages (from bleach->panel>=0.13.1->holoviews) (0.5.1)\n",
            "Requirement already satisfied: importlib-metadata>=4.4 in /usr/local/lib/python3.9/dist-packages (from markdown->panel>=0.13.1->holoviews) (6.4.1)\n",
            "Requirement already satisfied: urllib3<1.27,>=1.21.1 in /usr/local/lib/python3.9/dist-packages (from requests->panel>=0.13.1->holoviews) (1.26.15)\n",
            "Requirement already satisfied: charset-normalizer~=2.0.0 in /usr/local/lib/python3.9/dist-packages (from requests->panel>=0.13.1->holoviews) (2.0.12)\n",
            "Requirement already satisfied: certifi>=2017.4.17 in /usr/local/lib/python3.9/dist-packages (from requests->panel>=0.13.1->holoviews) (2022.12.7)\n",
            "Requirement already satisfied: idna<4,>=2.5 in /usr/local/lib/python3.9/dist-packages (from requests->panel>=0.13.1->holoviews) (3.4)\n",
            "Requirement already satisfied: zipp>=0.5 in /usr/local/lib/python3.9/dist-packages (from importlib-metadata>=4.4->markdown->panel>=0.13.1->holoviews) (3.15.0)\n",
            "Requirement already satisfied: MarkupSafe>=2.0 in /usr/local/lib/python3.9/dist-packages (from Jinja2>=2.9->bokeh<2.5.0,>=2.4.0->panel>=0.13.1->holoviews) (2.1.2)\n",
            "Looking in indexes: https://pypi.org/simple, https://us-python.pkg.dev/colab-wheels/public/simple/\n",
            "Requirement already satisfied: ipykernel in /usr/local/lib/python3.9/dist-packages (6.22.0)\n",
            "Requirement already satisfied: traitlets>=5.4.0 in /usr/local/lib/python3.9/dist-packages (from ipykernel) (5.7.1)\n",
            "Requirement already satisfied: jupyter-client>=6.1.12 in /usr/local/lib/python3.9/dist-packages (from ipykernel) (6.1.12)\n",
            "Requirement already satisfied: debugpy>=1.6.5 in /usr/local/lib/python3.9/dist-packages (from ipykernel) (1.6.6)\n",
            "Requirement already satisfied: psutil in /usr/local/lib/python3.9/dist-packages (from ipykernel) (5.9.5)\n",
            "Requirement already satisfied: pyzmq>=20 in /usr/local/lib/python3.9/dist-packages (from ipykernel) (23.2.1)\n",
            "Requirement already satisfied: packaging in /usr/local/lib/python3.9/dist-packages (from ipykernel) (23.1)\n",
            "Requirement already satisfied: tornado>=6.1 in /usr/local/lib/python3.9/dist-packages (from ipykernel) (6.2)\n",
            "Requirement already satisfied: jupyter-core!=5.0.*,>=4.12 in /usr/local/lib/python3.9/dist-packages (from ipykernel) (5.3.0)\n",
            "Requirement already satisfied: comm>=0.1.1 in /usr/local/lib/python3.9/dist-packages (from ipykernel) (0.1.3)\n",
            "Requirement already satisfied: matplotlib-inline>=0.1 in /usr/local/lib/python3.9/dist-packages (from ipykernel) (0.1.6)\n",
            "Requirement already satisfied: nest-asyncio in /usr/local/lib/python3.9/dist-packages (from ipykernel) (1.5.6)\n",
            "Requirement already satisfied: ipython>=7.23.1 in /usr/local/lib/python3.9/dist-packages (from ipykernel) (7.34.0)\n",
            "Requirement already satisfied: prompt-toolkit!=3.0.0,!=3.0.1,<3.1.0,>=2.0.0 in /usr/local/lib/python3.9/dist-packages (from ipython>=7.23.1->ipykernel) (3.0.38)\n",
            "Requirement already satisfied: setuptools>=18.5 in /usr/local/lib/python3.9/dist-packages (from ipython>=7.23.1->ipykernel) (67.6.1)\n",
            "Requirement already satisfied: pygments in /usr/local/lib/python3.9/dist-packages (from ipython>=7.23.1->ipykernel) (2.14.0)\n",
            "Requirement already satisfied: pickleshare in /usr/local/lib/python3.9/dist-packages (from ipython>=7.23.1->ipykernel) (0.7.5)\n",
            "Requirement already satisfied: backcall in /usr/local/lib/python3.9/dist-packages (from ipython>=7.23.1->ipykernel) (0.2.0)\n",
            "Requirement already satisfied: decorator in /usr/local/lib/python3.9/dist-packages (from ipython>=7.23.1->ipykernel) (4.4.2)\n",
            "Requirement already satisfied: pexpect>4.3 in /usr/local/lib/python3.9/dist-packages (from ipython>=7.23.1->ipykernel) (4.8.0)\n",
            "Requirement already satisfied: jedi>=0.16 in /usr/local/lib/python3.9/dist-packages (from ipython>=7.23.1->ipykernel) (0.18.2)\n",
            "Requirement already satisfied: python-dateutil>=2.1 in /usr/local/lib/python3.9/dist-packages (from jupyter-client>=6.1.12->ipykernel) (2.8.2)\n",
            "Requirement already satisfied: platformdirs>=2.5 in /usr/local/lib/python3.9/dist-packages (from jupyter-core!=5.0.*,>=4.12->ipykernel) (3.2.0)\n",
            "Requirement already satisfied: parso<0.9.0,>=0.8.0 in /usr/local/lib/python3.9/dist-packages (from jedi>=0.16->ipython>=7.23.1->ipykernel) (0.8.3)\n",
            "Requirement already satisfied: ptyprocess>=0.5 in /usr/local/lib/python3.9/dist-packages (from pexpect>4.3->ipython>=7.23.1->ipykernel) (0.7.0)\n",
            "Requirement already satisfied: wcwidth in /usr/local/lib/python3.9/dist-packages (from prompt-toolkit!=3.0.0,!=3.0.1,<3.1.0,>=2.0.0->ipython>=7.23.1->ipykernel) (0.2.6)\n",
            "Requirement already satisfied: six>=1.5 in /usr/local/lib/python3.9/dist-packages (from python-dateutil>=2.1->jupyter-client>=6.1.12->ipykernel) (1.16.0)\n"
          ]
        }
      ]
    },
    {
      "cell_type": "markdown",
      "source": [
        "##**Importing Data**"
      ],
      "metadata": {
        "id": "Jdg4mb9FRiRL"
      }
    },
    {
      "cell_type": "code",
      "source": [
        "import pandas\n",
        "df = pandas.read_excel('/content/Reviews.xlsx')\n"
      ],
      "metadata": {
        "id": "br_sTqZtIQAP"
      },
      "execution_count": null,
      "outputs": []
    },
    {
      "cell_type": "code",
      "source": [
        "df"
      ],
      "metadata": {
        "colab": {
          "base_uri": "https://localhost:8080/",
          "height": 423
        },
        "id": "i189s89hIaDC",
        "outputId": "4d5484e6-ea0c-4f98-91f4-b2570c50df7c"
      },
      "execution_count": null,
      "outputs": [
        {
          "output_type": "execute_result",
          "data": {
            "text/plain": [
              "                 Unnamed: 0         Unnamed: 1  \\\n",
              "0                      Song              Genre   \n",
              "1            \"Shape of You\"                Pop   \n",
              "2     \"Rolling in the Deep\"                Pop   \n",
              "3                 \"Bad Guy\"  Alternative/Indie   \n",
              "4                   \"Hello\"                Pop   \n",
              "...                     ...                ...   \n",
              "1024       Dil Diyan Gallan              Hindi   \n",
              "1025           Jag Ghoomeya              Hindi   \n",
              "1026      Aashiqui 2 Mashup              Hindi   \n",
              "1027  Chaiyya Chaiyya Remix              Hindi   \n",
              "1028           Kal Ho Na Ho              Hindi   \n",
              "\n",
              "                                             Unnamed: 2  \\\n",
              "0                                                Review   \n",
              "1     \"This song has a great beat and catchy lyrics....   \n",
              "2     \"Adele's powerful vocals and emotional lyrics ...   \n",
              "3     \"Billie Eilish's unique style and haunting voc...   \n",
              "4     \"Adele's comeback hit is everything we wanted ...   \n",
              "...                                                 ...   \n",
              "1024  Such a romantic and soulful song, one of my fa...   \n",
              "1025  Not a fan of this song, it's too slow and bori...   \n",
              "1026  Love the remix of this song, it's even better ...   \n",
              "1027  Love the modern twist on this classic song, it...   \n",
              "1028  A timeless classic, the lyrics and melody of t...   \n",
              "\n",
              "                      Unnamed: 3  \n",
              "0     Rating (Positive/Negative)  \n",
              "1                       Positive  \n",
              "2                       Positive  \n",
              "3                       Positive  \n",
              "4                       Positive  \n",
              "...                          ...  \n",
              "1024                    Positive  \n",
              "1025                    Negative  \n",
              "1026                    Positive  \n",
              "1027                    Positive  \n",
              "1028                    Positive  \n",
              "\n",
              "[1029 rows x 4 columns]"
            ],
            "text/html": [
              "\n",
              "  <div id=\"df-25c203f4-2c8f-470c-a02b-ff638ec4a3ae\">\n",
              "    <div class=\"colab-df-container\">\n",
              "      <div>\n",
              "<style scoped>\n",
              "    .dataframe tbody tr th:only-of-type {\n",
              "        vertical-align: middle;\n",
              "    }\n",
              "\n",
              "    .dataframe tbody tr th {\n",
              "        vertical-align: top;\n",
              "    }\n",
              "\n",
              "    .dataframe thead th {\n",
              "        text-align: right;\n",
              "    }\n",
              "</style>\n",
              "<table border=\"1\" class=\"dataframe\">\n",
              "  <thead>\n",
              "    <tr style=\"text-align: right;\">\n",
              "      <th></th>\n",
              "      <th>Unnamed: 0</th>\n",
              "      <th>Unnamed: 1</th>\n",
              "      <th>Unnamed: 2</th>\n",
              "      <th>Unnamed: 3</th>\n",
              "    </tr>\n",
              "  </thead>\n",
              "  <tbody>\n",
              "    <tr>\n",
              "      <th>0</th>\n",
              "      <td>Song</td>\n",
              "      <td>Genre</td>\n",
              "      <td>Review</td>\n",
              "      <td>Rating (Positive/Negative)</td>\n",
              "    </tr>\n",
              "    <tr>\n",
              "      <th>1</th>\n",
              "      <td>\"Shape of You\"</td>\n",
              "      <td>Pop</td>\n",
              "      <td>\"This song has a great beat and catchy lyrics....</td>\n",
              "      <td>Positive</td>\n",
              "    </tr>\n",
              "    <tr>\n",
              "      <th>2</th>\n",
              "      <td>\"Rolling in the Deep\"</td>\n",
              "      <td>Pop</td>\n",
              "      <td>\"Adele's powerful vocals and emotional lyrics ...</td>\n",
              "      <td>Positive</td>\n",
              "    </tr>\n",
              "    <tr>\n",
              "      <th>3</th>\n",
              "      <td>\"Bad Guy\"</td>\n",
              "      <td>Alternative/Indie</td>\n",
              "      <td>\"Billie Eilish's unique style and haunting voc...</td>\n",
              "      <td>Positive</td>\n",
              "    </tr>\n",
              "    <tr>\n",
              "      <th>4</th>\n",
              "      <td>\"Hello\"</td>\n",
              "      <td>Pop</td>\n",
              "      <td>\"Adele's comeback hit is everything we wanted ...</td>\n",
              "      <td>Positive</td>\n",
              "    </tr>\n",
              "    <tr>\n",
              "      <th>...</th>\n",
              "      <td>...</td>\n",
              "      <td>...</td>\n",
              "      <td>...</td>\n",
              "      <td>...</td>\n",
              "    </tr>\n",
              "    <tr>\n",
              "      <th>1024</th>\n",
              "      <td>Dil Diyan Gallan</td>\n",
              "      <td>Hindi</td>\n",
              "      <td>Such a romantic and soulful song, one of my fa...</td>\n",
              "      <td>Positive</td>\n",
              "    </tr>\n",
              "    <tr>\n",
              "      <th>1025</th>\n",
              "      <td>Jag Ghoomeya</td>\n",
              "      <td>Hindi</td>\n",
              "      <td>Not a fan of this song, it's too slow and bori...</td>\n",
              "      <td>Negative</td>\n",
              "    </tr>\n",
              "    <tr>\n",
              "      <th>1026</th>\n",
              "      <td>Aashiqui 2 Mashup</td>\n",
              "      <td>Hindi</td>\n",
              "      <td>Love the remix of this song, it's even better ...</td>\n",
              "      <td>Positive</td>\n",
              "    </tr>\n",
              "    <tr>\n",
              "      <th>1027</th>\n",
              "      <td>Chaiyya Chaiyya Remix</td>\n",
              "      <td>Hindi</td>\n",
              "      <td>Love the modern twist on this classic song, it...</td>\n",
              "      <td>Positive</td>\n",
              "    </tr>\n",
              "    <tr>\n",
              "      <th>1028</th>\n",
              "      <td>Kal Ho Na Ho</td>\n",
              "      <td>Hindi</td>\n",
              "      <td>A timeless classic, the lyrics and melody of t...</td>\n",
              "      <td>Positive</td>\n",
              "    </tr>\n",
              "  </tbody>\n",
              "</table>\n",
              "<p>1029 rows × 4 columns</p>\n",
              "</div>\n",
              "      <button class=\"colab-df-convert\" onclick=\"convertToInteractive('df-25c203f4-2c8f-470c-a02b-ff638ec4a3ae')\"\n",
              "              title=\"Convert this dataframe to an interactive table.\"\n",
              "              style=\"display:none;\">\n",
              "        \n",
              "  <svg xmlns=\"http://www.w3.org/2000/svg\" height=\"24px\"viewBox=\"0 0 24 24\"\n",
              "       width=\"24px\">\n",
              "    <path d=\"M0 0h24v24H0V0z\" fill=\"none\"/>\n",
              "    <path d=\"M18.56 5.44l.94 2.06.94-2.06 2.06-.94-2.06-.94-.94-2.06-.94 2.06-2.06.94zm-11 1L8.5 8.5l.94-2.06 2.06-.94-2.06-.94L8.5 2.5l-.94 2.06-2.06.94zm10 10l.94 2.06.94-2.06 2.06-.94-2.06-.94-.94-2.06-.94 2.06-2.06.94z\"/><path d=\"M17.41 7.96l-1.37-1.37c-.4-.4-.92-.59-1.43-.59-.52 0-1.04.2-1.43.59L10.3 9.45l-7.72 7.72c-.78.78-.78 2.05 0 2.83L4 21.41c.39.39.9.59 1.41.59.51 0 1.02-.2 1.41-.59l7.78-7.78 2.81-2.81c.8-.78.8-2.07 0-2.86zM5.41 20L4 18.59l7.72-7.72 1.47 1.35L5.41 20z\"/>\n",
              "  </svg>\n",
              "      </button>\n",
              "      \n",
              "  <style>\n",
              "    .colab-df-container {\n",
              "      display:flex;\n",
              "      flex-wrap:wrap;\n",
              "      gap: 12px;\n",
              "    }\n",
              "\n",
              "    .colab-df-convert {\n",
              "      background-color: #E8F0FE;\n",
              "      border: none;\n",
              "      border-radius: 50%;\n",
              "      cursor: pointer;\n",
              "      display: none;\n",
              "      fill: #1967D2;\n",
              "      height: 32px;\n",
              "      padding: 0 0 0 0;\n",
              "      width: 32px;\n",
              "    }\n",
              "\n",
              "    .colab-df-convert:hover {\n",
              "      background-color: #E2EBFA;\n",
              "      box-shadow: 0px 1px 2px rgba(60, 64, 67, 0.3), 0px 1px 3px 1px rgba(60, 64, 67, 0.15);\n",
              "      fill: #174EA6;\n",
              "    }\n",
              "\n",
              "    [theme=dark] .colab-df-convert {\n",
              "      background-color: #3B4455;\n",
              "      fill: #D2E3FC;\n",
              "    }\n",
              "\n",
              "    [theme=dark] .colab-df-convert:hover {\n",
              "      background-color: #434B5C;\n",
              "      box-shadow: 0px 1px 3px 1px rgba(0, 0, 0, 0.15);\n",
              "      filter: drop-shadow(0px 1px 2px rgba(0, 0, 0, 0.3));\n",
              "      fill: #FFFFFF;\n",
              "    }\n",
              "  </style>\n",
              "\n",
              "      <script>\n",
              "        const buttonEl =\n",
              "          document.querySelector('#df-25c203f4-2c8f-470c-a02b-ff638ec4a3ae button.colab-df-convert');\n",
              "        buttonEl.style.display =\n",
              "          google.colab.kernel.accessAllowed ? 'block' : 'none';\n",
              "\n",
              "        async function convertToInteractive(key) {\n",
              "          const element = document.querySelector('#df-25c203f4-2c8f-470c-a02b-ff638ec4a3ae');\n",
              "          const dataTable =\n",
              "            await google.colab.kernel.invokeFunction('convertToInteractive',\n",
              "                                                     [key], {});\n",
              "          if (!dataTable) return;\n",
              "\n",
              "          const docLinkHtml = 'Like what you see? Visit the ' +\n",
              "            '<a target=\"_blank\" href=https://colab.research.google.com/notebooks/data_table.ipynb>data table notebook</a>'\n",
              "            + ' to learn more about interactive tables.';\n",
              "          element.innerHTML = '';\n",
              "          dataTable['output_type'] = 'display_data';\n",
              "          await google.colab.output.renderOutput(dataTable, element);\n",
              "          const docLink = document.createElement('div');\n",
              "          docLink.innerHTML = docLinkHtml;\n",
              "          element.appendChild(docLink);\n",
              "        }\n",
              "      </script>\n",
              "    </div>\n",
              "  </div>\n",
              "  "
            ]
          },
          "metadata": {},
          "execution_count": 3
        }
      ]
    },
    {
      "cell_type": "code",
      "source": [
        "df.columns = ['Song', 'Genre', 'Reviews','Ratings']"
      ],
      "metadata": {
        "id": "b3h8AayxC3ps"
      },
      "execution_count": null,
      "outputs": []
    },
    {
      "cell_type": "markdown",
      "source": [
        "###**Cleaning Data**"
      ],
      "metadata": {
        "id": "OfY8XewsSCQx"
      }
    },
    {
      "cell_type": "code",
      "source": [
        "df = df.reset_index(drop=True)"
      ],
      "metadata": {
        "id": "3KQfcPJuDVyY"
      },
      "execution_count": null,
      "outputs": []
    },
    {
      "cell_type": "code",
      "source": [
        "df = df.drop(labels=0, axis=0)"
      ],
      "metadata": {
        "id": "QrDv-jsLFJ27"
      },
      "execution_count": null,
      "outputs": []
    },
    {
      "cell_type": "code",
      "source": [
        "df.shape"
      ],
      "metadata": {
        "colab": {
          "base_uri": "https://localhost:8080/"
        },
        "id": "t3t74Ft14B-2",
        "outputId": "0ba2308e-34e3-4af7-ddf5-a184e0288f34"
      },
      "execution_count": null,
      "outputs": [
        {
          "output_type": "execute_result",
          "data": {
            "text/plain": [
              "(1028, 4)"
            ]
          },
          "metadata": {},
          "execution_count": 7
        }
      ]
    },
    {
      "cell_type": "code",
      "source": [
        "df2 = df.drop_duplicates(subset=[\"Song\"])\n"
      ],
      "metadata": {
        "id": "SS5zrl_h4CBb"
      },
      "execution_count": null,
      "outputs": []
    },
    {
      "cell_type": "code",
      "source": [
        "df2.shape"
      ],
      "metadata": {
        "colab": {
          "base_uri": "https://localhost:8080/"
        },
        "id": "6DjzWdJPLiDb",
        "outputId": "883053ab-310c-42fa-f990-8e984e39786c"
      },
      "execution_count": null,
      "outputs": [
        {
          "output_type": "execute_result",
          "data": {
            "text/plain": [
              "(916, 4)"
            ]
          },
          "metadata": {},
          "execution_count": 9
        }
      ]
    },
    {
      "cell_type": "code",
      "source": [
        "data = df2.dropna()\n"
      ],
      "metadata": {
        "id": "b4zNTlTML2N0"
      },
      "execution_count": null,
      "outputs": []
    },
    {
      "cell_type": "code",
      "source": [
        "data\n"
      ],
      "metadata": {
        "colab": {
          "base_uri": "https://localhost:8080/",
          "height": 423
        },
        "id": "_d3ZvLU3L2QV",
        "outputId": "6ccf7978-9569-4583-fed3-2d41db670d28"
      },
      "execution_count": null,
      "outputs": [
        {
          "output_type": "execute_result",
          "data": {
            "text/plain": [
              "                       Song              Genre  \\\n",
              "1            \"Shape of You\"                Pop   \n",
              "2     \"Rolling in the Deep\"                Pop   \n",
              "3                 \"Bad Guy\"  Alternative/Indie   \n",
              "4                   \"Hello\"                Pop   \n",
              "5           \"Old Town Road\"            Country   \n",
              "...                     ...                ...   \n",
              "1024       Dil Diyan Gallan              Hindi   \n",
              "1025           Jag Ghoomeya              Hindi   \n",
              "1026      Aashiqui 2 Mashup              Hindi   \n",
              "1027  Chaiyya Chaiyya Remix              Hindi   \n",
              "1028           Kal Ho Na Ho              Hindi   \n",
              "\n",
              "                                                Reviews   Ratings  \n",
              "1     \"This song has a great beat and catchy lyrics....  Positive  \n",
              "2     \"Adele's powerful vocals and emotional lyrics ...  Positive  \n",
              "3     \"Billie Eilish's unique style and haunting voc...  Positive  \n",
              "4     \"Adele's comeback hit is everything we wanted ...  Positive  \n",
              "5     \"This song is so fun and catchy! I love the bl...  Positive  \n",
              "...                                                 ...       ...  \n",
              "1024  Such a romantic and soulful song, one of my fa...  Positive  \n",
              "1025  Not a fan of this song, it's too slow and bori...  Negative  \n",
              "1026  Love the remix of this song, it's even better ...  Positive  \n",
              "1027  Love the modern twist on this classic song, it...  Positive  \n",
              "1028  A timeless classic, the lyrics and melody of t...  Positive  \n",
              "\n",
              "[908 rows x 4 columns]"
            ],
            "text/html": [
              "\n",
              "  <div id=\"df-56d51950-7867-4559-936c-85c5ba61fbc3\">\n",
              "    <div class=\"colab-df-container\">\n",
              "      <div>\n",
              "<style scoped>\n",
              "    .dataframe tbody tr th:only-of-type {\n",
              "        vertical-align: middle;\n",
              "    }\n",
              "\n",
              "    .dataframe tbody tr th {\n",
              "        vertical-align: top;\n",
              "    }\n",
              "\n",
              "    .dataframe thead th {\n",
              "        text-align: right;\n",
              "    }\n",
              "</style>\n",
              "<table border=\"1\" class=\"dataframe\">\n",
              "  <thead>\n",
              "    <tr style=\"text-align: right;\">\n",
              "      <th></th>\n",
              "      <th>Song</th>\n",
              "      <th>Genre</th>\n",
              "      <th>Reviews</th>\n",
              "      <th>Ratings</th>\n",
              "    </tr>\n",
              "  </thead>\n",
              "  <tbody>\n",
              "    <tr>\n",
              "      <th>1</th>\n",
              "      <td>\"Shape of You\"</td>\n",
              "      <td>Pop</td>\n",
              "      <td>\"This song has a great beat and catchy lyrics....</td>\n",
              "      <td>Positive</td>\n",
              "    </tr>\n",
              "    <tr>\n",
              "      <th>2</th>\n",
              "      <td>\"Rolling in the Deep\"</td>\n",
              "      <td>Pop</td>\n",
              "      <td>\"Adele's powerful vocals and emotional lyrics ...</td>\n",
              "      <td>Positive</td>\n",
              "    </tr>\n",
              "    <tr>\n",
              "      <th>3</th>\n",
              "      <td>\"Bad Guy\"</td>\n",
              "      <td>Alternative/Indie</td>\n",
              "      <td>\"Billie Eilish's unique style and haunting voc...</td>\n",
              "      <td>Positive</td>\n",
              "    </tr>\n",
              "    <tr>\n",
              "      <th>4</th>\n",
              "      <td>\"Hello\"</td>\n",
              "      <td>Pop</td>\n",
              "      <td>\"Adele's comeback hit is everything we wanted ...</td>\n",
              "      <td>Positive</td>\n",
              "    </tr>\n",
              "    <tr>\n",
              "      <th>5</th>\n",
              "      <td>\"Old Town Road\"</td>\n",
              "      <td>Country</td>\n",
              "      <td>\"This song is so fun and catchy! I love the bl...</td>\n",
              "      <td>Positive</td>\n",
              "    </tr>\n",
              "    <tr>\n",
              "      <th>...</th>\n",
              "      <td>...</td>\n",
              "      <td>...</td>\n",
              "      <td>...</td>\n",
              "      <td>...</td>\n",
              "    </tr>\n",
              "    <tr>\n",
              "      <th>1024</th>\n",
              "      <td>Dil Diyan Gallan</td>\n",
              "      <td>Hindi</td>\n",
              "      <td>Such a romantic and soulful song, one of my fa...</td>\n",
              "      <td>Positive</td>\n",
              "    </tr>\n",
              "    <tr>\n",
              "      <th>1025</th>\n",
              "      <td>Jag Ghoomeya</td>\n",
              "      <td>Hindi</td>\n",
              "      <td>Not a fan of this song, it's too slow and bori...</td>\n",
              "      <td>Negative</td>\n",
              "    </tr>\n",
              "    <tr>\n",
              "      <th>1026</th>\n",
              "      <td>Aashiqui 2 Mashup</td>\n",
              "      <td>Hindi</td>\n",
              "      <td>Love the remix of this song, it's even better ...</td>\n",
              "      <td>Positive</td>\n",
              "    </tr>\n",
              "    <tr>\n",
              "      <th>1027</th>\n",
              "      <td>Chaiyya Chaiyya Remix</td>\n",
              "      <td>Hindi</td>\n",
              "      <td>Love the modern twist on this classic song, it...</td>\n",
              "      <td>Positive</td>\n",
              "    </tr>\n",
              "    <tr>\n",
              "      <th>1028</th>\n",
              "      <td>Kal Ho Na Ho</td>\n",
              "      <td>Hindi</td>\n",
              "      <td>A timeless classic, the lyrics and melody of t...</td>\n",
              "      <td>Positive</td>\n",
              "    </tr>\n",
              "  </tbody>\n",
              "</table>\n",
              "<p>908 rows × 4 columns</p>\n",
              "</div>\n",
              "      <button class=\"colab-df-convert\" onclick=\"convertToInteractive('df-56d51950-7867-4559-936c-85c5ba61fbc3')\"\n",
              "              title=\"Convert this dataframe to an interactive table.\"\n",
              "              style=\"display:none;\">\n",
              "        \n",
              "  <svg xmlns=\"http://www.w3.org/2000/svg\" height=\"24px\"viewBox=\"0 0 24 24\"\n",
              "       width=\"24px\">\n",
              "    <path d=\"M0 0h24v24H0V0z\" fill=\"none\"/>\n",
              "    <path d=\"M18.56 5.44l.94 2.06.94-2.06 2.06-.94-2.06-.94-.94-2.06-.94 2.06-2.06.94zm-11 1L8.5 8.5l.94-2.06 2.06-.94-2.06-.94L8.5 2.5l-.94 2.06-2.06.94zm10 10l.94 2.06.94-2.06 2.06-.94-2.06-.94-.94-2.06-.94 2.06-2.06.94z\"/><path d=\"M17.41 7.96l-1.37-1.37c-.4-.4-.92-.59-1.43-.59-.52 0-1.04.2-1.43.59L10.3 9.45l-7.72 7.72c-.78.78-.78 2.05 0 2.83L4 21.41c.39.39.9.59 1.41.59.51 0 1.02-.2 1.41-.59l7.78-7.78 2.81-2.81c.8-.78.8-2.07 0-2.86zM5.41 20L4 18.59l7.72-7.72 1.47 1.35L5.41 20z\"/>\n",
              "  </svg>\n",
              "      </button>\n",
              "      \n",
              "  <style>\n",
              "    .colab-df-container {\n",
              "      display:flex;\n",
              "      flex-wrap:wrap;\n",
              "      gap: 12px;\n",
              "    }\n",
              "\n",
              "    .colab-df-convert {\n",
              "      background-color: #E8F0FE;\n",
              "      border: none;\n",
              "      border-radius: 50%;\n",
              "      cursor: pointer;\n",
              "      display: none;\n",
              "      fill: #1967D2;\n",
              "      height: 32px;\n",
              "      padding: 0 0 0 0;\n",
              "      width: 32px;\n",
              "    }\n",
              "\n",
              "    .colab-df-convert:hover {\n",
              "      background-color: #E2EBFA;\n",
              "      box-shadow: 0px 1px 2px rgba(60, 64, 67, 0.3), 0px 1px 3px 1px rgba(60, 64, 67, 0.15);\n",
              "      fill: #174EA6;\n",
              "    }\n",
              "\n",
              "    [theme=dark] .colab-df-convert {\n",
              "      background-color: #3B4455;\n",
              "      fill: #D2E3FC;\n",
              "    }\n",
              "\n",
              "    [theme=dark] .colab-df-convert:hover {\n",
              "      background-color: #434B5C;\n",
              "      box-shadow: 0px 1px 3px 1px rgba(0, 0, 0, 0.15);\n",
              "      filter: drop-shadow(0px 1px 2px rgba(0, 0, 0, 0.3));\n",
              "      fill: #FFFFFF;\n",
              "    }\n",
              "  </style>\n",
              "\n",
              "      <script>\n",
              "        const buttonEl =\n",
              "          document.querySelector('#df-56d51950-7867-4559-936c-85c5ba61fbc3 button.colab-df-convert');\n",
              "        buttonEl.style.display =\n",
              "          google.colab.kernel.accessAllowed ? 'block' : 'none';\n",
              "\n",
              "        async function convertToInteractive(key) {\n",
              "          const element = document.querySelector('#df-56d51950-7867-4559-936c-85c5ba61fbc3');\n",
              "          const dataTable =\n",
              "            await google.colab.kernel.invokeFunction('convertToInteractive',\n",
              "                                                     [key], {});\n",
              "          if (!dataTable) return;\n",
              "\n",
              "          const docLinkHtml = 'Like what you see? Visit the ' +\n",
              "            '<a target=\"_blank\" href=https://colab.research.google.com/notebooks/data_table.ipynb>data table notebook</a>'\n",
              "            + ' to learn more about interactive tables.';\n",
              "          element.innerHTML = '';\n",
              "          dataTable['output_type'] = 'display_data';\n",
              "          await google.colab.output.renderOutput(dataTable, element);\n",
              "          const docLink = document.createElement('div');\n",
              "          docLink.innerHTML = docLinkHtml;\n",
              "          element.appendChild(docLink);\n",
              "        }\n",
              "      </script>\n",
              "    </div>\n",
              "  </div>\n",
              "  "
            ]
          },
          "metadata": {},
          "execution_count": 11
        }
      ]
    },
    {
      "cell_type": "code",
      "source": [
        "data.shape"
      ],
      "metadata": {
        "colab": {
          "base_uri": "https://localhost:8080/"
        },
        "id": "4-hbvgCWL2Sv",
        "outputId": "5e5981c1-598e-4441-8a42-a7c5fce4afd2"
      },
      "execution_count": null,
      "outputs": [
        {
          "output_type": "execute_result",
          "data": {
            "text/plain": [
              "(908, 4)"
            ]
          },
          "metadata": {},
          "execution_count": 12
        }
      ]
    },
    {
      "cell_type": "markdown",
      "source": [
        "###**Feature Engineering**"
      ],
      "metadata": {
        "id": "J5PFA_ASSMjK"
      }
    },
    {
      "cell_type": "code",
      "source": [
        "data['Ratings'] = data['Ratings'].map({'Positive':1, 'Negative':0})"
      ],
      "metadata": {
        "id": "3us35AICL2VE"
      },
      "execution_count": null,
      "outputs": []
    },
    {
      "cell_type": "markdown",
      "source": [
        "###**TFIDF AND UMAP Dimentionality Reduction** "
      ],
      "metadata": {
        "id": "A6alRoq8STRO"
      }
    },
    {
      "cell_type": "code",
      "source": [
        "tfidf = TfidfVectorizer(ngram_range=(1,2), min_df=2)\n",
        "tfidf_matrix = tfidf.fit_transform(data['Reviews'])\n",
        "reducer = umap.UMAP(n_neighbors=5, min_dist=0.3)\n",
        "embedding = reducer.fit_transform(tfidf_matrix)"
      ],
      "metadata": {
        "id": "a0YSAq-_9vAR"
      },
      "execution_count": null,
      "outputs": []
    },
    {
      "cell_type": "code",
      "source": [
        "Y = data['Ratings']"
      ],
      "metadata": {
        "id": "_7vaBDeUGsKg"
      },
      "execution_count": null,
      "outputs": []
    },
    {
      "cell_type": "code",
      "source": [
        "ratings = list(data['Ratings'])\n",
        "reviews = list(data['Reviews'])"
      ],
      "metadata": {
        "id": "L2-JcHT_HIGd"
      },
      "execution_count": null,
      "outputs": []
    },
    {
      "cell_type": "markdown",
      "source": [
        "**Task 2** - How does tuning TF-IDF hyperparameters ‘ngram_range’ and ‘min_df’ affect the TF-IDF matrix and the subsequent visualization? \n",
        "\n",
        "**Ans**. The TF-IDF (Term Frequency-Inverse Document Frequency) matrix is a numerical text data representation that shows the relevance of each term in a document corpus. The TF-IDF matrix and subsequent display can be considerably influenced by hyperparameters such as ngram_range and min_df.\n",
        "\n",
        "ngram_range: This option specifies how many consecutive words, or n-grams, are treated as a single phrase. The most frequent default setting is (1,1), which indicates that only single words are examined. Increasing ngram_range to (1,2) or (2,2) will contain bi-grams, or pairs of consecutive words, or tri-grams (3,3) for triples of consecutive words, and so on.\n",
        "\n",
        "\n",
        "Larger n-grams capture more context and meaning in the text, but they also increase the dimensionality of the TF-IDF matrix, making it more difficult to read.When employing bigger n-grams, visualization approaches such as word clouds or heatmaps may become less effective since the resulting matrix contains too many terms to display.\n",
        "\n",
        "min_df: This option defines the minimal number of documents required for a phrase to appear in the TF-IDF matrix. It is used to exclude terms that are uncommon or unimportant to the analysis.\n",
        "\n",
        "By increasing min_df, terms that appear in fewer documents are excluded, resulting in a smaller and more focused TF-IDF matrix. This can help to minimize noise and increase analytical accuracy. Setting min_df too high, on the other hand, may remove significant terms that are uncommon but still relevant. Lowering min_df allows for the inclusion of additional words, but it might also cause problems."
      ],
      "metadata": {
        "id": "wXJpcViRHGcz"
      }
    },
    {
      "cell_type": "code",
      "source": [
        "import matplotlib.pyplot as plt\n",
        "import seaborn as sns\n",
        "data = [go.Scatter(x=embedding[:, 0], y=embedding[:, 1],mode='markers',\n",
        "                    marker = dict(color=Y, colorscale='Rainbow', opacity=0.5),\n",
        "                               \n",
        "                                hoverinfo='text')]\n",
        "\n",
        "layout = go.Layout(title = 'UMAP Dimensionality Reduction', width = 800, height = 800,\n",
        "                    xaxis = dict(title='First Dimension'),\n",
        "                    yaxis = dict(title='Second Dimension'))\n",
        "fig = go.Figure(data=data, layout=layout)\n",
        "fig.show()"
      ],
      "metadata": {
        "colab": {
          "base_uri": "https://localhost:8080/",
          "height": 817
        },
        "id": "VrMlXOjG98Pq",
        "outputId": "9650c454-71e6-4dfc-df86-143bfc27f3f4"
      },
      "execution_count": null,
      "outputs": [
        {
          "output_type": "display_data",
          "data": {
            "text/html": [
              "<html>\n",
              "<head><meta charset=\"utf-8\" /></head>\n",
              "<body>\n",
              "    <div>            <script src=\"https://cdnjs.cloudflare.com/ajax/libs/mathjax/2.7.5/MathJax.js?config=TeX-AMS-MML_SVG\"></script><script type=\"text/javascript\">if (window.MathJax && window.MathJax.Hub && window.MathJax.Hub.Config) {window.MathJax.Hub.Config({SVG: {font: \"STIX-Web\"}});}</script>                <script type=\"text/javascript\">window.PlotlyConfig = {MathJaxConfig: 'local'};</script>\n",
              "        <script src=\"https://cdn.plot.ly/plotly-2.18.2.min.js\"></script>                <div id=\"78bbdc9c-21d5-41c4-9a1f-3b4a977b7fad\" class=\"plotly-graph-div\" style=\"height:800px; width:800px;\"></div>            <script type=\"text/javascript\">                                    window.PLOTLYENV=window.PLOTLYENV || {};                                    if (document.getElementById(\"78bbdc9c-21d5-41c4-9a1f-3b4a977b7fad\")) {                    Plotly.newPlot(                        \"78bbdc9c-21d5-41c4-9a1f-3b4a977b7fad\",                        [{\"hoverinfo\":\"text\",\"marker\":{\"color\":[1.0,1.0,1.0,1.0,1.0,1.0,1.0,1.0,1.0,1.0,1.0,1.0,1.0,1.0,1.0,1.0,1.0,1.0,1.0,1.0,1.0,1.0,1.0,1.0,1.0,1.0,1.0,1.0,1.0,1.0,1.0,1.0,1.0,1.0,1.0,1.0,1.0,1.0,1.0,1.0,1.0,1.0,1.0,1.0,1.0,1.0,1.0,1.0,1.0,1.0,1.0,1.0,1.0,1.0,1.0,1.0,1.0,1.0,1.0,1.0,1.0,1.0,1.0,1.0,1.0,1.0,1.0,1.0,1.0,1.0,1.0,1.0,1.0,1.0,1.0,1.0,1.0,1.0,1.0,1.0,1.0,1.0,1.0,1.0,1.0,1.0,1.0,1.0,1.0,1.0,1.0,1.0,1.0,1.0,1.0,1.0,1.0,1.0,1.0,1.0,1.0,1.0,1.0,1.0,1.0,1.0,1.0,0.0,0.0,0.0,0.0,0.0,0.0,0.0,0.0,0.0,0.0,0.0,0.0,0.0,0.0,0.0,0.0,1.0,0.0,1.0,1.0,1.0,1.0,1.0,1.0,0.0,1.0,1.0,1.0,0.0,1.0,0.0,1.0,1.0,1.0,1.0,0.0,1.0,1.0,0.0,1.0,1.0,0.0,1.0,1.0,0.0,0.0,1.0,1.0,1.0,1.0,1.0,1.0,1.0,1.0,1.0,1.0,1.0,0.0,0.0,0.0,1.0,1.0,1.0,1.0,1.0,1.0,1.0,1.0,1.0,1.0,0.0,1.0,1.0,1.0,1.0,1.0,1.0,1.0,1.0,1.0,1.0,1.0,1.0,1.0,1.0,1.0,1.0,1.0,1.0,1.0,1.0,1.0,1.0,1.0,1.0,1.0,1.0,1.0,0.0,1.0,1.0,1.0,1.0,1.0,1.0,1.0,0.0,1.0,0.0,1.0,1.0,0.0,1.0,0.0,1.0,1.0,0.0,1.0,1.0,1.0,0.0,1.0,0.0,1.0,0.0,1.0,0.0,1.0,0.0,1.0,1.0,1.0,1.0,1.0,1.0,1.0,1.0,1.0,1.0,1.0,0.0,1.0,1.0,1.0,1.0,1.0,1.0,1.0,1.0,1.0,0.0,1.0,1.0,1.0,0.0,1.0,1.0,1.0,1.0,1.0,1.0,1.0,1.0,1.0,1.0,1.0,0.0,1.0,1.0,1.0,1.0,1.0,0.0,1.0,1.0,1.0,1.0,1.0,1.0,1.0,1.0,1.0,1.0,1.0,1.0,1.0,1.0,1.0,1.0,1.0,1.0,1.0,1.0,1.0,1.0,1.0,1.0,1.0,1.0,1.0,1.0,1.0,1.0,1.0,1.0,1.0,1.0,1.0,1.0,1.0,1.0,1.0,1.0,1.0,1.0,1.0,1.0,1.0,1.0,1.0,1.0,1.0,1.0,1.0,1.0,1.0,1.0,1.0,1.0,1.0,1.0,1.0,1.0,1.0,1.0,1.0,1.0,1.0,1.0,1.0,1.0,1.0,1.0,1.0,1.0,1.0,1.0,1.0,1.0,1.0,1.0,1.0,1.0,1.0,1.0,1.0,1.0,1.0,1.0,1.0,1.0,1.0,1.0,1.0,1.0,1.0,1.0,1.0,1.0,1.0,1.0,1.0,1.0,1.0,1.0,1.0,1.0,1.0,1.0,1.0,1.0,1.0,1.0,1.0,1.0,1.0,1.0,1.0,1.0,1.0,1.0,1.0,1.0,1.0,1.0,1.0,1.0,1.0,1.0,1.0,1.0,1.0,1.0,1.0,1.0,1.0,1.0,1.0,0.0,1.0,1.0,0.0,1.0,1.0,1.0,1.0,1.0,1.0,1.0,1.0,1.0,1.0,0.0,1.0,1.0,1.0,0.0,1.0,1.0,1.0,1.0,1.0,1.0,1.0,1.0,0.0,1.0,1.0,1.0,1.0,1.0,1.0,1.0,1.0,1.0,1.0,1.0,1.0,1.0,1.0,1.0,1.0,1.0,1.0,1.0,1.0,1.0,1.0,1.0,1.0,1.0,1.0,1.0,1.0,1.0,1.0,0.0,1.0,0.0,1.0,1.0,1.0,0.0,1.0,0.0,1.0,1.0,1.0,0.0,1.0,1.0,0.0,1.0,0.0,1.0,1.0,1.0,1.0,1.0,1.0,1.0,1.0,1.0,0.0,1.0,0.0,1.0,1.0,1.0,0.0,1.0,1.0,0.0,1.0,1.0,1.0,1.0,1.0,1.0,1.0,1.0,1.0,1.0,1.0,1.0,1.0,1.0,1.0,1.0,1.0,1.0,1.0,1.0,1.0,1.0,1.0,1.0,1.0,1.0,1.0,1.0,1.0,1.0,1.0,0.0,0.0,0.0,0.0,0.0,1.0,0.0,1.0,0.0,1.0,0.0,1.0,1.0,1.0,0.0,1.0,0.0,1.0,1.0,0.0,1.0,1.0,0.0,1.0,1.0,0.0,1.0,1.0,1.0,1.0,0.0,1.0,1.0,1.0,1.0,1.0,1.0,1.0,0.0,1.0,1.0,1.0,1.0,0.0,1.0,0.0,1.0,0.0,1.0,0.0,1.0,0.0,1.0,0.0,1.0,1.0,1.0,1.0,1.0,1.0,1.0,1.0,1.0,1.0,1.0,1.0,1.0,1.0,1.0,1.0,1.0,1.0,1.0,1.0,1.0,1.0,1.0,1.0,1.0,1.0,1.0,1.0,1.0,1.0,1.0,1.0,1.0,1.0,1.0,1.0,1.0,1.0,1.0,1.0,1.0,1.0,1.0,1.0,1.0,1.0,1.0,1.0,1.0,0.0,1.0,null,1.0,0.0,1.0,1.0,1.0,0.0,1.0,1.0,1.0,1.0,1.0,0.0,1.0,1.0,1.0,0.0,1.0,1.0,1.0,1.0,1.0,1.0,1.0,1.0,1.0,1.0,1.0,1.0,1.0,1.0,1.0,1.0,1.0,1.0,1.0,1.0,0.0,0.0,0.0,0.0,0.0,0.0,0.0,0.0,0.0,1.0,0.0,1.0,1.0,1.0,1.0,0.0,1.0,0.0,null,1.0,1.0,1.0,1.0,0.0,null,1.0,1.0,1.0,1.0,1.0,1.0,1.0,0.0,1.0,1.0,1.0,0.0,1.0,1.0,1.0,1.0,1.0,0.0,0.0,1.0,1.0,0.0,1.0,0.0,1.0,1.0,0.0,1.0,0.0,1.0,0.0,1.0,1.0,0.0,1.0,1.0,1.0,1.0,0.0,1.0,1.0,0.0,0.0,1.0,1.0,1.0,1.0,1.0,1.0,1.0,1.0,1.0,1.0,1.0,1.0,1.0,1.0,1.0,1.0,1.0,1.0,1.0,1.0,1.0,1.0,1.0,1.0,0.0,0.0,0.0,0.0,0.0,1.0,1.0,1.0,1.0,1.0,1.0,1.0,1.0,1.0,1.0,1.0,1.0,1.0,1.0,1.0,1.0,1.0,1.0,1.0,1.0,1.0,1.0,1.0,1.0,1.0,1.0,1.0,1.0,1.0,0.0,1.0,1.0,1.0,1.0,1.0,1.0,1.0,1.0,1.0,1.0,1.0,1.0,1.0,1.0,0.0,1.0,1.0,1.0,0.0,1.0,0.0,1.0,1.0,0.0,1.0,0.0,1.0,0.0,1.0,0.0,1.0,0.0,1.0,1.0,0.0,1.0,1.0,0.0,1.0,1.0,1.0,0.0,1.0,1.0,0.0,1.0,1.0,1.0,1.0,0.0,0.0,1.0,1.0,0.0,1.0,1.0,1.0,0.0,1.0,0.0,1.0,1.0,1.0,1.0,1.0,0.0,1.0,0.0,1.0,0.0,1.0,0.0,1.0,0.0,1.0,0.0,1.0,0.0,1.0,1.0,0.0,1.0,1.0,1.0,0.0,1.0,0.0,1.0,1.0,1.0,1.0,0.0,1.0,1.0,0.0,1.0,1.0,1.0],\"colorscale\":[[0.0,\"rgb(150,0,90)\"],[0.125,\"rgb(0,0,200)\"],[0.25,\"rgb(0,25,255)\"],[0.375,\"rgb(0,152,255)\"],[0.5,\"rgb(44,255,150)\"],[0.625,\"rgb(151,255,0)\"],[0.75,\"rgb(255,234,0)\"],[0.875,\"rgb(255,111,0)\"],[1.0,\"rgb(255,0,0)\"]],\"opacity\":0.5},\"mode\":\"markers\",\"x\":[10.964555740356445,9.109590530395508,10.263587951660156,8.143390655517578,10.341448783874512,8.25240421295166,8.442134857177734,4.9845147132873535,10.212684631347656,10.514341354370117,8.361096382141113,8.257828712463379,7.975831985473633,8.281780242919922,7.8024983406066895,6.6579203605651855,8.54381275177002,8.135750770568848,8.250617027282715,7.590958595275879,8.305957794189453,8.890390396118164,7.059816360473633,7.355800628662109,7.825804710388184,8.071218490600586,9.226893424987793,7.4848222732543945,7.666611194610596,7.498867511749268,7.23939323425293,7.807692527770996,6.929306507110596,6.5349860191345215,7.656353950500488,8.250861167907715,10.852468490600586,10.15861701965332,8.94011402130127,8.176140785217285,7.0088019371032715,6.427355766296387,8.027243614196777,7.353954315185547,6.451939582824707,7.039784908294678,7.500643730163574,6.47737979888916,7.296890735626221,7.334430694580078,7.060814380645752,8.25036907196045,7.089712619781494,6.5065202713012695,8.376958847045898,6.9835333824157715,7.219334602355957,6.442119598388672,6.498813152313232,7.1034016609191895,6.3206071853637695,7.168234825134277,6.994050025939941,6.4987473487854,7.143224239349365,8.194024085998535,7.72605037689209,6.366085529327393,8.410529136657715,7.045952796936035,7.205137729644775,6.3553547859191895,6.588561058044434,7.455424785614014,7.898732662200928,7.948192119598389,8.003819465637207,7.616753101348877,7.828250885009766,7.984062671661377,8.096824645996094,11.72094440460205,8.383910179138184,10.596482276916504,11.345566749572754,5.575274467468262,10.795258522033691,13.398984909057617,9.068385124206543,10.720114707946777,11.02436637878418,8.042409896850586,9.373559951782227,9.18879222869873,12.63084888458252,7.8132452964782715,10.875158309936523,10.880805015563965,8.235057830810547,10.13045597076416,11.196022987365723,10.707075119018555,9.63961124420166,8.915496826171875,10.547375679016113,11.658227920532227,11.707008361816406,4.713449478149414,4.869645118713379,3.0580976009368896,3.7443490028381348,3.792037010192871,3.075458526611328,4.6869025230407715,3.412769317626953,3.81022310256958,3.3701529502868652,3.19268798828125,3.9238383769989014,3.201113224029541,3.8554129600524902,3.2559804916381836,3.6876256465911865,10.642364501953125,2.933239459991455,8.074251174926758,7.102320194244385,10.458125114440918,10.975135803222656,12.887779235839844,8.663989067077637,4.224041938781738,7.981679439544678,11.561910629272461,9.388041496276855,2.893035411834717,10.889939308166504,12.271084785461426,5.306978702545166,7.381840229034424,9.693580627441406,11.42503833770752,9.050187110900879,9.713326454162598,10.014615058898926,6.726129531860352,8.051660537719727,10.845311164855957,8.62386417388916,12.15243911743164,9.353890419006348,7.354874610900879,7.406123161315918,8.010656356811523,8.565489768981934,10.298091888427734,11.281655311584473,11.092283248901367,9.568836212158203,6.789045810699463,8.4755220413208,8.214127540588379,9.085944175720215,10.266472816467285,2.474104642868042,6.552706718444824,7.969059944152832,9.995536804199219,11.204595565795898,8.574752807617188,7.714500904083252,7.478601455688477,10.993499755859375,10.852272033691406,4.757731914520264,8.56411361694336,8.435933113098145,8.267435073852539,6.276190757751465,7.355306148529053,6.372366905212402,7.629365921020508,9.550073623657227,6.22111701965332,7.027093887329102,7.456271648406982,6.516489505767822,6.3711256980896,6.121860504150391,8.324007034301758,6.175802230834961,6.25474739074707,11.262981414794922,6.737536907196045,6.359558582305908,7.303302764892578,6.090762615203857,5.953658103942871,6.6157097816467285,6.204671859741211,7.3766770362854,6.69769811630249,7.011895656585693,6.542777061462402,6.423300743103027,6.129161357879639,6.684141159057617,6.369758129119873,6.384971618652344,7.038337230682373,5.993350505828857,5.318681716918945,9.450996398925781,5.2234039306640625,11.403327941894531,5.952943325042725,6.388177394866943,9.897554397583008,8.14599323272705,10.60704231262207,5.4396467208862305,6.058877468109131,10.0322265625,5.994516372680664,9.475018501281738,10.106834411621094,10.950652122497559,9.638675689697266,5.272199630737305,10.457905769348145,9.472227096557617,5.1547064781188965,9.697265625,6.024781227111816,9.55810832977295,10.53139591217041,4.860032558441162,4.83793830871582,4.767352104187012,4.755837917327881,4.8372883796691895,4.8779449462890625,5.062519550323486,4.812736988067627,4.706283092498779,11.201335906982422,12.798166275024414,2.2267444133758545,10.499088287353516,11.514629364013672,13.77531909942627,9.178025245666504,7.715131759643555,8.045415878295898,10.46615219116211,6.581559181213379,8.712019920349121,6.578445911407471,12.501410484313965,7.883155345916748,9.803438186645508,7.710138320922852,9.762923240661621,9.58877182006836,11.983705520629883,11.997323989868164,12.162095069885254,10.567923545837402,12.86681079864502,11.954970359802246,12.428662300109863,11.497045516967773,11.51540470123291,2.0616657733917236,12.677105903625488,12.975801467895508,11.313993453979492,7.981921195983887,9.869336128234863,5.347324371337891,8.286715507507324,11.601251602172852,12.008883476257324,12.167627334594727,8.058091163635254,12.871034622192383,12.066664695739746,9.402178764343262,13.303157806396484,9.622355461120605,12.559989929199219,11.703984260559082,11.067887306213379,13.115145683288574,11.382570266723633,12.860352516174316,11.601692199707031,12.997809410095215,10.053007125854492,12.8262939453125,13.062954902648926,13.135738372802734,11.816901206970215,10.139263153076172,12.553051948547363,11.02713394165039,12.03697395324707,12.083403587341309,8.261467933654785,13.439290046691895,12.2965087890625,12.403027534484863,12.817394256591797,13.421785354614258,11.188729286193848,12.378985404968262,9.336678504943848,11.562524795532227,13.327898025512695,12.411104202270508,13.530082702636719,9.567363739013672,11.448073387145996,13.305201530456543,11.647148132324219,10.038322448730469,8.765412330627441,12.546030044555664,11.778667449951172,11.776873588562012,11.40379810333252,13.423748970031738,12.676721572875977,8.360437393188477,12.350346565246582,11.293604850769043,13.579704284667969,12.942846298217773,11.949390411376953,10.335836410522461,12.21284008026123,9.9970064163208,11.138858795166016,13.340405464172363,11.361837387084961,13.481359481811523,11.504029273986816,11.376290321350098,9.76760482788086,11.662395477294922,10.034390449523926,11.673798561096191,12.649005889892578,12.212837219238281,11.702754020690918,12.005642890930176,11.868781089782715,8.262343406677246,8.3490629196167,12.9424467086792,11.334945678710938,12.280344009399414,13.225502967834473,8.37168025970459,12.440025329589844,9.997989654541016,11.555486679077148,6.5139479637146,13.085724830627441,11.678081512451172,10.051422119140625,13.547926902770996,12.05939769744873,10.6612548828125,13.389892578125,11.270868301391602,9.842037200927734,10.1271390914917,10.446020126342773,6.527303218841553,12.271263122558594,13.161933898925781,13.364623069763184,10.531506538391113,13.411911010742188,6.376551151275635,13.323957443237305,10.30141830444336,13.231911659240723,12.531332015991211,11.955000877380371,13.097554206848145,13.182670593261719,6.421489715576172,13.327486038208008,11.93174934387207,13.297582626342773,11.579448699951172,12.013042449951172,11.605804443359375,13.600236892700195,13.294196128845215,10.3403959274292,6.438488960266113,13.39050006866455,4.199128150939941,11.659791946411133,12.949285507202148,12.200881958007812,8.475675582885742,9.393623352050781,10.71566390991211,10.841390609741211,8.461150169372559,9.214768409729004,4.823332786560059,10.870683670043945,9.084139823913574,9.125405311584473,9.075197219848633,8.45120906829834,9.206336975097656,9.24518871307373,9.16348934173584,9.231877326965332,10.828841209411621,9.375572204589844,9.186060905456543,12.891547203063965,3.4987471103668213,9.927401542663574,6.084778308868408,11.070695877075195,6.6325459480285645,9.363808631896973,10.012725830078125,5.6180806159973145,6.985594272613525,10.887691497802734,6.541479110717773,9.086749076843262,5.908700466156006,8.482362747192383,9.795503616333008,9.88458251953125,8.583813667297363,9.325020790100098,10.42033576965332,5.353671073913574,8.596564292907715,8.492243766784668,8.479336738586426,8.343799591064453,8.724763870239258,10.777118682861328,5.136821746826172,9.073250770568848,11.385763168334961,11.03509521484375,13.717347145080566,8.03133773803711,9.933460235595703,7.246761322021484,11.16808032989502,4.572283744812012,11.97720718383789,8.778555870056152,12.508649826049805,8.315738677978516,12.639544486999512,10.558749198913574,9.509969711303711,5.60903263092041,1.9581258296966553,10.733136177062988,2.0626864433288574,13.057937622070312,10.86068058013916,6.530729293823242,3.4526662826538086,10.03723430633545,1.6634844541549683,6.7532758712768555,13.309283256530762,9.837940216064453,2.085883140563965,8.336648941040039,6.7751078605651855,3.4104244709014893,11.74783706665039,1.7592376470565796,5.603621959686279,7.964380264282227,7.296789646148682,10.12460708618164,6.92976713180542,10.832603454589844,11.941347122192383,6.5922770500183105,7.747435092926025,3.937809944152832,10.633054733276367,3.199349880218506,6.70746374130249,6.733534336090088,7.667010307312012,3.889638900756836,10.980711936950684,6.105700492858887,3.1820685863494873,6.921382427215576,10.815255165100098,11.077105522155762,11.868435859680176,9.999953269958496,4.044734477996826,9.642794609069824,8.910643577575684,8.939478874206543,9.51274299621582,8.825152397155762,11.19609546661377,12.049367904663086,9.045358657836914,9.346765518188477,9.387797355651855,11.021273612976074,12.951184272766113,11.075421333312988,10.49488639831543,8.756061553955078,9.176817893981934,9.293536186218262,11.021984100341797,9.291061401367188,10.695002555847168,10.28954792022705,7.05449914932251,13.814863204956055,8.811302185058594,6.46400785446167,9.774208068847656,6.019998550415039,2.6866488456726074,0.9482895135879517,3.188375949859619,10.840761184692383,4.647647380828857,8.822081565856934,2.178060531616211,5.990565776824951,5.3460211753845215,5.920377731323242,11.803291320800781,6.3372368812561035,1.3288360834121704,9.60550308227539,0.8719452023506165,11.346071243286133,9.846959114074707,4.697144508361816,11.320859909057617,5.636521816253662,0.8603984713554382,5.726129055023193,11.781508445739746,0.9409751296043396,10.083857536315918,6.381518363952637,5.717006683349609,5.611366271972656,0.9555746912956238,6.316731929779053,5.618101119995117,11.6697359085083,5.686028003692627,6.768383502960205,9.62943172454834,10.597265243530273,2.702751398086548,8.059462547302246,13.782881736755371,6.943735599517822,8.48502254486084,2.9158589839935303,5.73535680770874,3.539025068283081,6.212424278259277,3.3786847591400146,10.215920448303223,3.235523223876953,10.931538581848145,2.2949211597442627,8.801974296569824,2.4272844791412354,6.675376892089844,8.294035911560059,11.181076049804688,8.846571922302246,8.327474594116211,10.71063232421875,8.613137245178223,8.881941795349121,11.114325523376465,8.596090316772461,8.811450004577637,8.441311836242676,9.090124130249023,8.854719161987305,8.690112113952637,6.180434226989746,6.826859951019287,8.016402244567871,7.049858570098877,9.404862403869629,10.221254348754883,8.656036376953125,10.368037223815918,9.505439758300781,7.615056037902832,10.630597114562988,8.944925308227539,10.607718467712402,6.400775909423828,9.256342887878418,7.563835144042969,10.43958854675293,10.764608383178711,9.590461730957031,9.8706693649292,9.04323959350586,10.975154876708984,9.711642265319824,8.807900428771973,6.702244281768799,7.483429908752441,5.764846324920654,7.597348690032959,8.091170310974121,7.469275951385498,6.832833766937256,8.172621726989746,10.804709434509277,9.16799545288086,3.7658307552337646,9.547477722167969,9.416267395019531,9.599738121032715,2.694124698638916,10.569849967956543,7.368645191192627,8.320860862731934,3.9272043704986572,6.878138542175293,10.094569206237793,10.742331504821777,7.9909563064575195,7.835793495178223,6.202889919281006,8.482702255249023,8.528188705444336,8.24427318572998,10.403579711914062,7.976205348968506,8.069188117980957,9.58167839050293,8.140342712402344,8.190007209777832,10.896299362182617,7.945697784423828,8.023226737976074,11.093988418579102,4.616024494171143,8.111689567565918,6.827264785766602,10.820716857910156,10.63365364074707,9.380997657775879,4.993871212005615,8.708821296691895,7.681578159332275,10.698893547058105,4.662721633911133,7.120434761047363,4.3690104484558105,3.2703564167022705,3.9150896072387695,2.600733995437622,3.9586126804351807,9.570172309875488,3.3220651149749756,6.640446186065674,7.628674507141113,4.524778366088867,6.145596027374268,7.306687355041504,7.204805850982666,7.420217037200928,4.856904029846191,6.184170722961426,3.183648109436035,4.547850131988525,5.126320838928223,6.940736770629883,7.766772270202637,6.001829624176025,4.407163143157959,4.6303815841674805,7.394394874572754,7.357570171356201,7.4367804527282715,6.016149044036865,6.895111560821533,4.81178617477417,6.792430877685547,3.2691891193389893,7.2459797859191895,9.749740600585938,7.064599514007568,1.9446418285369873,8.861042022705078,12.07464599609375,7.330239295959473,9.165925979614258,7.3882598876953125,3.6321940422058105,3.4322588443756104,10.705474853515625,9.964210510253906,3.431234359741211,7.608516693115234,2.888744831085205,12.1976900100708,9.52515697479248,2.597079277038574,10.290730476379395,3.598461627960205,11.446382522583008,3.6298720836639404,13.290278434753418,12.549221992492676,2.390803575515747,9.087295532226562,9.292076110839844,9.04105281829834,12.023754119873047,3.431239128112793,13.251103401184082,6.947312355041504,2.5019381046295166,3.3360815048217773,11.236007690429688,10.389884948730469,6.621471881866455,10.809548377990723,8.928718566894531,10.47167682647705,7.0513691902160645,9.142108917236328,6.850783348083496,5.319899559020996,8.830998420715332,8.768324851989746,7.246891975402832,9.028105735778809,9.100666999816895,13.071791648864746,8.385616302490234,12.076530456542969,10.200739860534668,10.508545875549316,5.291303634643555,12.899924278259277,7.262983322143555,6.957075119018555,1.8726589679718018,6.172635555267334,4.65455961227417,4.092147350311279,4.92047643661499,10.125396728515625,10.523106575012207,9.921560287475586,5.756336212158203,8.193307876586914,9.73397445678711,9.94196605682373,9.89428424835205,13.186295509338379,5.750561714172363,10.005602836608887,9.671936988830566,10.312020301818848,5.403665065765381,14.31397533416748,9.669991493225098,11.862983703613281,14.291533470153809,8.843362808227539,9.90731430053711,11.151626586914062,14.379016876220703,10.456478118896484,14.09823989868164,13.656041145324707,7.699591636657715,14.2723970413208,9.721659660339355,9.089181900024414,7.085425853729248,12.698576927185059,10.493989944458008,10.965218544006348,9.7784423828125,10.674257278442383,8.207383155822754,8.85876750946045,7.208987236022949,8.440677642822266,8.275009155273438,7.148248672485352,9.425586700439453,8.744301795959473,11.767095565795898,3.2234833240509033,11.322540283203125,8.662631034851074,11.074825286865234,3.330061197280884,11.668560028076172,3.4705710411071777,11.520892143249512,8.7720365524292,3.0791280269622803,8.942025184631348,3.0998780727386475,11.22689437866211,3.219581365585327,8.78280258178711,3.0535521507263184,11.574529647827148,3.09315824508667,11.828424453735352,6.48939323425293,3.8587453365325928,10.85316276550293,8.030862808227539,3.448610305786133,5.7002081871032715,7.7094340324401855,10.485610961914062,4.905655860900879,7.31033992767334,11.039017677307129,2.1764304637908936,5.340401649475098,8.168035507202148,7.561898708343506,7.6423726081848145,2.7724900245666504,3.6062333583831787,5.98441743850708,6.5677947998046875,2.3181025981903076,9.37441349029541,7.731300354003906,6.694851875305176,3.8308417797088623,6.3027143478393555,2.399090528488159,6.344037055969238,6.361881256103516,7.731024265289307,11.740528106689453,9.733850479125977,6.345646858215332,10.013270378112793,2.3416547775268555,6.998946666717529,2.4207496643066406,11.325748443603516,2.6170883178710938,6.827552795410156,6.5349650382995605,6.616626262664795,2.4496355056762695,7.882884979248047,2.2586593627929688,7.024104595184326,11.119470596313477,6.215717315673828,7.937558174133301,11.214285850524902,7.121507167816162,3.552238702774048,6.378507614135742,3.5536606311798096,9.232975006103516,11.259902954101562,8.397931098937988,11.221914291381836,3.4391868114471436,12.343435287475586,6.40731143951416,3.4323530197143555,9.153292655944824,9.605860710144043,8.89077091217041],\"y\":[-5.3911213874816895,-2.3774912357330322,-3.528710126876831,3.312736749649048,-1.1060523986816406,-3.2800581455230713,-2.843069314956665,2.442791700363159,-2.9443199634552,-2.187567949295044,-2.8453071117401123,-2.8353090286254883,-1.647568702697754,-3.2823050022125244,0.6061075925827026,-0.5344798564910889,-2.8286149501800537,-4.796130657196045,-3.3769595623016357,0.5815303325653076,-4.810276508331299,-3.376127243041992,-4.239152908325195,2.2432165145874023,-3.53554630279541,-1.9158145189285278,-2.2567203044891357,1.0977421998977661,3.3738224506378174,2.374377489089966,-0.0722404271364212,-4.636861324310303,-1.379297137260437,-4.464008331298828,-4.3316826820373535,-3.514408588409424,-2.6647231578826904,-3.019301414489746,-2.4506781101226807,-4.84429407119751,-1.1142077445983887,-1.5928869247436523,-4.866240501403809,3.1779165267944336,-1.4567091464996338,-4.551445484161377,-4.590436935424805,-1.4136766195297241,-4.707071781158447,3.153380870819092,-0.2623997926712036,-3.6089744567871094,-4.636581897735596,-4.42487096786499,-3.118889808654785,-4.437620162963867,-4.573120594024658,-0.4987628161907196,-4.383309841156006,-1.1721669435501099,-0.7640970945358276,-4.269848823547363,-1.258992075920105,-0.743572473526001,-4.417964458465576,-5.053621292114258,-4.695355415344238,-0.8487818241119385,-3.2817444801330566,-1.3000333309173584,-4.762606143951416,-0.7852593660354614,-0.9624461531639099,-4.771189212799072,-3.9740023612976074,-4.821262359619141,-5.113408088684082,-4.7873921394348145,-5.220914363861084,-5.249652862548828,-5.256928443908691,-0.16588017344474792,2.9247148036956787,5.461507797241211,-2.5712339878082275,2.8021790981292725,2.294330358505249,-2.090951442718506,4.23390531539917,2.3220181465148926,5.1979804039001465,3.2894232273101807,3.899951696395874,-0.06037075072526932,3.4519453048706055,-0.6020271182060242,1.816757321357727,4.119210720062256,4.838709354400635,1.9515936374664307,1.957807183265686,4.382848739624023,1.2529246807098389,-0.11889000982046127,1.9220179319381714,-0.10379104316234589,-3.314364194869995,0.8921242952346802,1.2315715551376343,0.6403600573539734,-0.06998595595359802,1.6994186639785767,0.800748884677887,0.9636531472206116,0.23014312982559204,0.364955335855484,1.6032748222351074,0.45287564396858215,0.07524919509887695,0.493302583694458,0.024458805099129677,1.3221402168273926,-0.05205889418721199,1.5382936000823975,-1.0249613523483276,3.407193183898926,-2.6848409175872803,1.5301499366760254,3.0973148345947266,-0.37979158759117126,1.301878809928894,-0.23569314181804657,1.816678762435913,0.9511615037918091,-4.656242370605469,-1.1745117902755737,-2.2617063522338867,3.294224500656128,-0.8210499882698059,-3.320741653442383,-1.2255936861038208,-3.5579609870910645,4.228231906890869,4.54954195022583,-1.5392967462539673,-3.527071714401245,0.7272354364395142,0.003033772110939026,4.447638034820557,2.9291887283325195,-1.0979437828063965,-3.16347599029541,3.937129259109497,-0.7281121611595154,4.542791366577148,2.8695435523986816,0.9761717915534973,1.5057333707809448,-2.649852752685547,-3.803307056427002,-2.942075252532959,4.656249523162842,-1.6982301473617554,1.4336378574371338,0.2677622139453888,4.545814037322998,-0.5457068085670471,-1.7561391592025757,0.49869492650032043,0.6414521336555481,2.58610200881958,3.6182785034179688,0.2518179714679718,3.2808618545532227,0.6424839496612549,0.05982377380132675,-0.4355514347553253,3.160653829574585,-0.13556593656539917,4.464874267578125,-0.5199412107467651,1.1385852098464966,3.620513439178467,0.17353874444961548,4.631722450256348,-0.826680064201355,-0.5879986882209778,3.0592546463012695,-0.27996426820755005,-0.03277277201414108,-0.05043729394674301,2.765126943588257,5.306407928466797,-2.214411497116089,-2.745469808578491,-2.072272777557373,-2.439044952392578,-1.837278962135315,-2.0258536338806152,0.2176576405763626,-2.139704704284668,-2.2260384559631348,-2.198882818222046,-2.1920087337493896,-2.096059799194336,-2.1034111976623535,-2.1668412685394287,-2.120497941970825,-2.3532767295837402,-2.16292142868042,-2.186882257461548,-1.186718225479126,-4.751364231109619,2.481957197189331,0.7391266822814941,-1.0492714643478394,0.648674488067627,-1.8739277124404907,1.0856367349624634,0.1518728882074356,-0.7893441319465637,-1.4081515073776245,3.9540352821350098,-1.0016146898269653,-4.773377418518066,-3.666527509689331,3.0971450805664062,4.550475597381592,2.267534017562866,0.9845722913742065,4.173320770263672,2.248551368713379,4.583805084228516,-0.30794504284858704,4.490447044372559,1.0697413682937622,3.239396333694458,2.7922747135162354,3.0173356533050537,2.9537529945373535,3.3556125164031982,3.4236581325531006,3.3421499729156494,3.334991693496704,3.0984864234924316,1.8540254831314087,0.3177662491798401,0.35263901948928833,2.714223623275757,-3.7443885803222656,0.689579963684082,-3.3339157104492188,2.4748897552490234,-0.15404857695102692,5.302772521972656,-3.354390859603882,-2.862307548522949,3.9574122428894043,2.9874799251556396,1.772861123085022,-0.7122769355773926,1.34917151927948,-1.8772780895233154,-0.6172564625740051,-3.1153223514556885,0.31779593229293823,-2.987013101577759,5.379343509674072,-2.150116205215454,-3.2668333053588867,3.6364760398864746,-2.53670597076416,-0.30492231249809265,0.31168505549430847,-2.9475224018096924,1.3357102870941162,-3.5606305599212646,2.2438483238220215,2.6255624294281006,-0.8680444955825806,2.6367604732513428,0.9991896152496338,-3.1084389686584473,-1.3752464056015015,2.5035343170166016,0.6562405228614807,-3.1879427433013916,-0.19513291120529175,-1.5040433406829834,2.63669490814209,-2.0594894886016846,-3.0867393016815186,2.2031116485595703,-1.7100144624710083,-3.6212801933288574,-2.417546510696411,1.2520734071731567,3.0163614749908447,2.3173320293426514,-2.2640655040740967,-1.4472519159317017,-2.2859809398651123,2.3789443969726562,-0.8569477200508118,2.248321771621704,2.184922218322754,-0.9025930762290955,1.8485773801803589,6.154816150665283,-1.380164623260498,2.335196018218994,1.7637525796890259,-1.9448094367980957,-1.6029820442199707,2.3942975997924805,3.5067856311798096,2.604525327682495,2.0722453594207764,-1.5571428537368774,1.7118340730667114,1.8360847234725952,2.6473140716552734,1.3503798246383667,-1.9153611660003662,4.076388359069824,-0.15524716675281525,-0.5236796736717224,4.020512580871582,1.967826247215271,-4.032909870147705,2.3519864082336426,1.0183749198913574,2.982985496520996,6.270828723907471,1.0070399045944214,1.9973338842391968,0.9650444984436035,1.6394901275634766,-3.9619393348693848,4.162965297698975,1.016918420791626,-0.7696831226348877,1.7505091428756714,-1.5635919570922852,2.3415651321411133,0.8396663665771484,2.192807912826538,4.114474296569824,-0.2880514860153198,2.0062708854675293,-0.7781161665916443,-3.9194023609161377,2.608386516571045,0.5913213491439819,2.4647088050842285,0.5740121603012085,4.178313255310059,6.173830509185791,3.329113006591797,-0.5152077674865723,1.9019640684127808,1.5350946187973022,0.9208243489265442,6.287680625915527,4.036626815795898,-0.7337313294410706,3.9736006259918213,5.652363300323486,-0.5804769396781921,-4.106622219085693,-0.9179028272628784,0.9055302143096924,0.41447243094444275,4.231568336486816,2.262355327606201,5.182546138763428,-0.15481247007846832,1.2035346031188965,4.001696586608887,5.868801593780518,1.644759178161621,1.8853869438171387,1.893161416053772,4.296522617340088,1.9923064708709717,5.8093695640563965,-0.7416518926620483,4.102642059326172,2.2843663692474365,3.962519645690918,0.20854978263378143,2.137057065963745,-0.29783493280410767,5.862436771392822,1.8476587533950806,-4.103728294372559,2.5231919288635254,4.109496116638184,1.4196064472198486,-0.08097964525222778,1.9189445972442627,2.3651957511901855,4.102078914642334,5.790275573730469,-0.359476774930954,3.4852499961853027,-0.11464286595582962,0.7170712351799011,1.5377447605133057,4.995490550994873,-4.374296188354492,0.6320602893829346,-0.4102298617362976,4.945918560028076,5.129148483276367,0.9560635685920715,-0.24004286527633667,4.525324821472168,1.6746426820755005,5.172660827636719,4.900989055633545,4.951632499694824,1.5151658058166504,5.088813781738281,5.126546859741211,-0.03169615939259529,4.8863019943237305,5.165351390838623,0.5077381730079651,3.2459189891815186,1.738808512687683,1.1317400932312012,1.3711453676223755,0.8565142750740051,0.9062132239341736,0.8621799349784851,0.4102858006954193,2.557123899459839,1.275404930114746,-2.8691186904907227,0.8411873579025269,0.24861042201519012,0.7477728128433228,0.918979823589325,1.211471676826477,-0.9511197209358215,0.822939395904541,0.3694208860397339,0.10098853707313538,-1.7703557014465332,-1.666002631187439,-1.5888575315475464,-1.2891498804092407,-1.656126618385315,-5.528051853179932,-0.5501299500465393,4.1078643798828125,-2.426215887069702,1.7169724702835083,0.06754074990749359,3.0988848209381104,-0.9689140915870667,4.780026435852051,0.9200375080108643,-0.228070467710495,-3.9138669967651367,3.5289764404296875,-0.5267970561981201,2.8250954151153564,2.827646493911743,1.1099120378494263,-0.9039396643638611,0.6702882647514343,0.36154353618621826,2.060980796813965,2.2523539066314697,0.6909621357917786,-5.42819881439209,0.6282469630241394,2.2165422439575195,1.5886781215667725,2.4279448986053467,1.021227240562439,1.983913540840149,-1.9453482627868652,0.2882198691368103,6.110154628753662,1.5719208717346191,1.964607834815979,-3.945462465286255,2.42965030670166,0.776650071144104,-0.22720390558242798,0.2261226773262024,0.32605814933776855,0.7338513135910034,-5.35798978805542,-3.332408905029297,0.3649006485939026,3.980304718017578,0.5504477620124817,-3.6885182857513428,1.3569411039352417,3.2506771087646484,0.2098488211631775,3.804379463195801,0.6226491332054138,-3.6535258293151855,3.4180283546447754,1.3236477375030518,3.493849277496338,-5.403304100036621,-1.5664637088775635,3.869553327560425,-1.7466402053833008,3.3209104537963867,-1.477806568145752,-0.34917134046554565,2.983773946762085,-3.104421854019165,-2.5563666820526123,-0.3668421804904938,1.361451268196106,-0.5547019243240356,-1.1502046585083008,-3.2294390201568604,-1.7166446447372437,-0.5864652395248413,-1.7685024738311768,-0.57318115234375,-2.0127594470977783,0.8607879281044006,-3.749494791030884,-1.809759259223938,-3.1005005836486816,-1.5620940923690796,2.7678229808807373,-1.943893551826477,0.4162586033344269,3.2456750869750977,0.7196372151374817,0.6872357130050659,1.0128332376480103,-0.6744489073753357,2.2411231994628906,2.1002705097198486,-5.269633769989014,1.708305835723877,-0.36702224612236023,2.3000991344451904,1.0042768716812134,2.818164825439453,2.765758752822876,-4.0228495597839355,1.7437962293624878,2.1370749473571777,0.0055718254297971725,2.2166378498077393,-3.8915328979492188,-0.8425393104553223,1.9808909893035889,4.135602951049805,4.0229716300964355,2.2272324562072754,3.9622371196746826,-2.9572572708129883,2.207181453704834,-0.19627022743225098,1.6930620670318604,3.9166526794433594,3.9729442596435547,2.198201894760132,1.7192519903182983,3.9887943267822266,-2.8901748657226562,4.014782905578613,2.3310749530792236,1.2247083187103271,5.469069480895996,1.9250104427337646,1.0974798202514648,0.24430467188358307,1.8147934675216675,-0.22148863971233368,2.2611258029937744,1.4604532718658447,0.23620888590812683,1.1955081224441528,0.4334201216697693,2.459172248840332,2.7197742462158203,-5.3454108238220215,1.9321255683898926,-0.1281866580247879,1.9359849691390991,-2.379002571105957,1.5407295227050781,-2.226360321044922,1.7607660293579102,1.3335481882095337,-2.3586339950561523,-3.776780843734741,1.861095666885376,-2.2813706398010254,1.5125371217727661,0.9859192967414856,1.4533714056015015,-4.236732482910156,1.936477541923523,1.317407250404358,0.45724523067474365,2.4814839363098145,-2.291442394256592,-0.06741844117641449,-2.2839372158050537,0.049774426966905594,-2.3725199699401855,-2.082643985748291,-4.8420586585998535,-0.16512267291545868,-2.3499205112457275,2.291764736175537,-2.2940430641174316,0.5223940014839172,-2.2799978256225586,0.814723014831543,-3.034632682800293,-2.3178772926330566,-2.4876434803009033,-2.4068260192871094,1.125272512435913,-5.416758060455322,-3.4234883785247803,0.8532150387763977,0.21030546724796295,4.556027412414551,3.2686164379119873,4.675191402435303,2.1920382976531982,-0.370466411113739,3.2498013973236084,-0.98349928855896,2.0365355014801025,-0.450581431388855,1.538639783859253,-4.474915981292725,-4.791775703430176,-4.667267799377441,-0.09802664071321487,-3.623051881790161,1.328244924545288,0.0591251477599144,0.6786715388298035,1.7685556411743164,2.9647605419158936,3.048321008682251,0.9315276741981506,-1.325181007385254,4.949019908905029,-0.9700614809989929,-1.1011812686920166,-0.937408983707428,2.9289047718048096,-1.2362523078918457,0.9177999496459961,2.828413248062134,-0.9025200009346008,-0.8415800929069519,3.1525518894195557,-1.3302081823349,-0.6202857494354248,-1.5210210084915161,-0.18895567953586578,-1.5025174617767334,4.949660301208496,-1.0130479335784912,-1.4457526206970215,-3.9247281551361084,0.1574801802635193,-0.22746771574020386,4.130209445953369,-1.3230950832366943,-0.16651202738285065,4.145669460296631,-0.08825307339429855,0.3241625428199768,-0.1998434066772461,0.7138872146606445,1.4011034965515137,1.0975285768508911,-1.4712226390838623,4.2866530418396,0.6404954195022583,-0.613759458065033,-2.0022330284118652,3.0534276962280273,2.511043071746826,-0.07825182378292084,0.03099982813000679,-2.6501553058624268,0.6299229860305786,-0.28898364305496216,0.16452805697917938,-2.581171751022339,2.9154162406921387,-2.092155933380127,-0.18285834789276123,-0.11744875460863113,3.088838815689087,2.635639190673828,0.18626917898654938,-2.4724249839782715,2.5869367122650146,-0.11061751842498779,-2.255483388900757,1.5842742919921875,3.0784709453582764,-2.2992570400238037,1.5442068576812744,0.31700003147125244,-0.060524627566337585,0.5226182341575623,2.403829336166382,0.7712705135345459,-2.8265020847320557,0.8301990032196045,1.539309024810791,-3.522507667541504,-2.5648515224456787,2.2675459384918213,2.4200141429901123,0.585115373134613,-3.8226380348205566,-4.656566619873047,0.12797027826309204,4.030178070068359,1.2088708877563477,-0.38745662569999695,1.6923922300338745,-2.0856099128723145,3.9643585681915283,0.4090175926685333,-2.8629310131073,-3.5821995735168457,-3.973611831665039,-3.9763782024383545,0.7387701272964478,1.575818419456482,2.817814588546753,-0.2529601752758026,1.3874067068099976,5.277268886566162,2.7424356937408447,1.6589312553405762,-1.3688634634017944,-1.0954465866088867,0.14549437165260315,-2.8567657470703125,-1.2816262245178223,4.7263360023498535,2.6641452312469482,-0.2818858325481415,0.5919846296310425,-3.0918850898742676,-1.1011289358139038,-0.541620671749115,1.1663998365402222,0.8508768677711487,0.30257096886634827,4.3134002685546875,2.856234073638916,2.74591064453125,0.5540720224380493,-2.623640775680542,-2.8877134323120117,2.5072619915008545,4.886715412139893,1.9627755880355835,2.253239631652832,2.645311117172241,-0.5325404405593872,5.39454460144043,0.03352449834346771,0.6998775005340576,3.301689624786377,1.8668116331100464,0.5185065865516663,2.0627670288085938,-0.25451329350471497,1.5139888525009155,0.03300661966204643,2.0966529846191406,1.7725549936294556,0.5359540581703186,-2.0558648109436035,-2.779420852661133,-0.6639267206192017,-2.133571147918701,-2.7058184146881104,-2.82381010055542,-3.3101084232330322,-2.0763888359069824,-2.8713769912719727,-2.224094867706299,-2.2142257690429688,-2.2579081058502197,-2.1636099815368652,-1.7289652824401855,0.5414187908172607,-0.5903074741363525,-0.6916730999946594,-2.2908880710601807,-0.8027260303497314,4.6379618644714355,-1.8972433805465698,-2.3068177700042725,-2.6946239471435547,-0.9067407250404358,-2.0736682415008545,-2.3864004611968994,-0.8334190845489502,-3.0218725204467773,-2.2913928031921387,-1.5073319673538208,-1.6331077814102173,-1.7325791120529175,2.0166807174682617,-0.9520034790039062,-1.6781617403030396,-1.5419903993606567,-1.6987303495407104,-1.256179690361023,2.1795578002929688,-1.8232539892196655,2.264920711517334,-1.711223840713501,-1.0649033784866333,-1.7587641477584839,2.113839626312256,-1.8184353113174438,-1.4196137189865112,-1.7317758798599243,-1.4539198875427246,1.867510199546814,0.46288028359413147,-5.30934476852417,1.4311856031417847,1.7745301723480225,1.3841071128845215,1.6224051713943481,5.545487403869629,1.059738039970398,1.5986113548278809,-3.7725930213928223,2.3341004848480225,1.9177944660186768,2.1224074363708496,1.610616683959961,-0.5322744846343994,0.46207770705223083,1.348454475402832,0.6630706787109375,2.6977596282958984,0.046537622809410095,-4.196697235107422,-0.17418430745601654,2.54243803024292,1.3717834949493408,2.3076817989349365,-0.07039022445678711,2.358320951461792,2.493072271347046,0.057928700000047684,-4.0738019943237305,-2.0502395629882812,4.759984016418457,3.5021307468414307,2.2073147296905518,1.4996812343597412,0.0037067474331706762,-3.888594627380371,0.22957058250904083,1.5881767272949219,4.908751487731934,-1.9654229879379272,-0.11232535541057587,0.17331750690937042,2.2561116218566895,1.4055579900741577,4.01339864730835,4.922609806060791,0.09476606547832489,5.274764537811279,1.5486609935760498,3.2575581073760986,1.5556305646896362,3.1584525108337402,2.7834370136260986,-3.46177339553833,2.771902561187744,-0.06099468469619751,3.150509834289551,3.2729413509368896,1.5168999433517456,3.0679738521575928,1.6892834901809692,0.9974271655082703,2.834507465362549],\"type\":\"scatter\"}],                        {\"height\":800,\"title\":{\"text\":\"UMAP Dimensionality Reduction\"},\"width\":800,\"xaxis\":{\"title\":{\"text\":\"First Dimension\"}},\"yaxis\":{\"title\":{\"text\":\"Second Dimension\"}},\"template\":{\"data\":{\"histogram2dcontour\":[{\"type\":\"histogram2dcontour\",\"colorbar\":{\"outlinewidth\":0,\"ticks\":\"\"},\"colorscale\":[[0.0,\"#0d0887\"],[0.1111111111111111,\"#46039f\"],[0.2222222222222222,\"#7201a8\"],[0.3333333333333333,\"#9c179e\"],[0.4444444444444444,\"#bd3786\"],[0.5555555555555556,\"#d8576b\"],[0.6666666666666666,\"#ed7953\"],[0.7777777777777778,\"#fb9f3a\"],[0.8888888888888888,\"#fdca26\"],[1.0,\"#f0f921\"]]}],\"choropleth\":[{\"type\":\"choropleth\",\"colorbar\":{\"outlinewidth\":0,\"ticks\":\"\"}}],\"histogram2d\":[{\"type\":\"histogram2d\",\"colorbar\":{\"outlinewidth\":0,\"ticks\":\"\"},\"colorscale\":[[0.0,\"#0d0887\"],[0.1111111111111111,\"#46039f\"],[0.2222222222222222,\"#7201a8\"],[0.3333333333333333,\"#9c179e\"],[0.4444444444444444,\"#bd3786\"],[0.5555555555555556,\"#d8576b\"],[0.6666666666666666,\"#ed7953\"],[0.7777777777777778,\"#fb9f3a\"],[0.8888888888888888,\"#fdca26\"],[1.0,\"#f0f921\"]]}],\"heatmap\":[{\"type\":\"heatmap\",\"colorbar\":{\"outlinewidth\":0,\"ticks\":\"\"},\"colorscale\":[[0.0,\"#0d0887\"],[0.1111111111111111,\"#46039f\"],[0.2222222222222222,\"#7201a8\"],[0.3333333333333333,\"#9c179e\"],[0.4444444444444444,\"#bd3786\"],[0.5555555555555556,\"#d8576b\"],[0.6666666666666666,\"#ed7953\"],[0.7777777777777778,\"#fb9f3a\"],[0.8888888888888888,\"#fdca26\"],[1.0,\"#f0f921\"]]}],\"heatmapgl\":[{\"type\":\"heatmapgl\",\"colorbar\":{\"outlinewidth\":0,\"ticks\":\"\"},\"colorscale\":[[0.0,\"#0d0887\"],[0.1111111111111111,\"#46039f\"],[0.2222222222222222,\"#7201a8\"],[0.3333333333333333,\"#9c179e\"],[0.4444444444444444,\"#bd3786\"],[0.5555555555555556,\"#d8576b\"],[0.6666666666666666,\"#ed7953\"],[0.7777777777777778,\"#fb9f3a\"],[0.8888888888888888,\"#fdca26\"],[1.0,\"#f0f921\"]]}],\"contourcarpet\":[{\"type\":\"contourcarpet\",\"colorbar\":{\"outlinewidth\":0,\"ticks\":\"\"}}],\"contour\":[{\"type\":\"contour\",\"colorbar\":{\"outlinewidth\":0,\"ticks\":\"\"},\"colorscale\":[[0.0,\"#0d0887\"],[0.1111111111111111,\"#46039f\"],[0.2222222222222222,\"#7201a8\"],[0.3333333333333333,\"#9c179e\"],[0.4444444444444444,\"#bd3786\"],[0.5555555555555556,\"#d8576b\"],[0.6666666666666666,\"#ed7953\"],[0.7777777777777778,\"#fb9f3a\"],[0.8888888888888888,\"#fdca26\"],[1.0,\"#f0f921\"]]}],\"surface\":[{\"type\":\"surface\",\"colorbar\":{\"outlinewidth\":0,\"ticks\":\"\"},\"colorscale\":[[0.0,\"#0d0887\"],[0.1111111111111111,\"#46039f\"],[0.2222222222222222,\"#7201a8\"],[0.3333333333333333,\"#9c179e\"],[0.4444444444444444,\"#bd3786\"],[0.5555555555555556,\"#d8576b\"],[0.6666666666666666,\"#ed7953\"],[0.7777777777777778,\"#fb9f3a\"],[0.8888888888888888,\"#fdca26\"],[1.0,\"#f0f921\"]]}],\"mesh3d\":[{\"type\":\"mesh3d\",\"colorbar\":{\"outlinewidth\":0,\"ticks\":\"\"}}],\"scatter\":[{\"fillpattern\":{\"fillmode\":\"overlay\",\"size\":10,\"solidity\":0.2},\"type\":\"scatter\"}],\"parcoords\":[{\"type\":\"parcoords\",\"line\":{\"colorbar\":{\"outlinewidth\":0,\"ticks\":\"\"}}}],\"scatterpolargl\":[{\"type\":\"scatterpolargl\",\"marker\":{\"colorbar\":{\"outlinewidth\":0,\"ticks\":\"\"}}}],\"bar\":[{\"error_x\":{\"color\":\"#2a3f5f\"},\"error_y\":{\"color\":\"#2a3f5f\"},\"marker\":{\"line\":{\"color\":\"#E5ECF6\",\"width\":0.5},\"pattern\":{\"fillmode\":\"overlay\",\"size\":10,\"solidity\":0.2}},\"type\":\"bar\"}],\"scattergeo\":[{\"type\":\"scattergeo\",\"marker\":{\"colorbar\":{\"outlinewidth\":0,\"ticks\":\"\"}}}],\"scatterpolar\":[{\"type\":\"scatterpolar\",\"marker\":{\"colorbar\":{\"outlinewidth\":0,\"ticks\":\"\"}}}],\"histogram\":[{\"marker\":{\"pattern\":{\"fillmode\":\"overlay\",\"size\":10,\"solidity\":0.2}},\"type\":\"histogram\"}],\"scattergl\":[{\"type\":\"scattergl\",\"marker\":{\"colorbar\":{\"outlinewidth\":0,\"ticks\":\"\"}}}],\"scatter3d\":[{\"type\":\"scatter3d\",\"line\":{\"colorbar\":{\"outlinewidth\":0,\"ticks\":\"\"}},\"marker\":{\"colorbar\":{\"outlinewidth\":0,\"ticks\":\"\"}}}],\"scattermapbox\":[{\"type\":\"scattermapbox\",\"marker\":{\"colorbar\":{\"outlinewidth\":0,\"ticks\":\"\"}}}],\"scatterternary\":[{\"type\":\"scatterternary\",\"marker\":{\"colorbar\":{\"outlinewidth\":0,\"ticks\":\"\"}}}],\"scattercarpet\":[{\"type\":\"scattercarpet\",\"marker\":{\"colorbar\":{\"outlinewidth\":0,\"ticks\":\"\"}}}],\"carpet\":[{\"aaxis\":{\"endlinecolor\":\"#2a3f5f\",\"gridcolor\":\"white\",\"linecolor\":\"white\",\"minorgridcolor\":\"white\",\"startlinecolor\":\"#2a3f5f\"},\"baxis\":{\"endlinecolor\":\"#2a3f5f\",\"gridcolor\":\"white\",\"linecolor\":\"white\",\"minorgridcolor\":\"white\",\"startlinecolor\":\"#2a3f5f\"},\"type\":\"carpet\"}],\"table\":[{\"cells\":{\"fill\":{\"color\":\"#EBF0F8\"},\"line\":{\"color\":\"white\"}},\"header\":{\"fill\":{\"color\":\"#C8D4E3\"},\"line\":{\"color\":\"white\"}},\"type\":\"table\"}],\"barpolar\":[{\"marker\":{\"line\":{\"color\":\"#E5ECF6\",\"width\":0.5},\"pattern\":{\"fillmode\":\"overlay\",\"size\":10,\"solidity\":0.2}},\"type\":\"barpolar\"}],\"pie\":[{\"automargin\":true,\"type\":\"pie\"}]},\"layout\":{\"autotypenumbers\":\"strict\",\"colorway\":[\"#636efa\",\"#EF553B\",\"#00cc96\",\"#ab63fa\",\"#FFA15A\",\"#19d3f3\",\"#FF6692\",\"#B6E880\",\"#FF97FF\",\"#FECB52\"],\"font\":{\"color\":\"#2a3f5f\"},\"hovermode\":\"closest\",\"hoverlabel\":{\"align\":\"left\"},\"paper_bgcolor\":\"white\",\"plot_bgcolor\":\"#E5ECF6\",\"polar\":{\"bgcolor\":\"#E5ECF6\",\"angularaxis\":{\"gridcolor\":\"white\",\"linecolor\":\"white\",\"ticks\":\"\"},\"radialaxis\":{\"gridcolor\":\"white\",\"linecolor\":\"white\",\"ticks\":\"\"}},\"ternary\":{\"bgcolor\":\"#E5ECF6\",\"aaxis\":{\"gridcolor\":\"white\",\"linecolor\":\"white\",\"ticks\":\"\"},\"baxis\":{\"gridcolor\":\"white\",\"linecolor\":\"white\",\"ticks\":\"\"},\"caxis\":{\"gridcolor\":\"white\",\"linecolor\":\"white\",\"ticks\":\"\"}},\"coloraxis\":{\"colorbar\":{\"outlinewidth\":0,\"ticks\":\"\"}},\"colorscale\":{\"sequential\":[[0.0,\"#0d0887\"],[0.1111111111111111,\"#46039f\"],[0.2222222222222222,\"#7201a8\"],[0.3333333333333333,\"#9c179e\"],[0.4444444444444444,\"#bd3786\"],[0.5555555555555556,\"#d8576b\"],[0.6666666666666666,\"#ed7953\"],[0.7777777777777778,\"#fb9f3a\"],[0.8888888888888888,\"#fdca26\"],[1.0,\"#f0f921\"]],\"sequentialminus\":[[0.0,\"#0d0887\"],[0.1111111111111111,\"#46039f\"],[0.2222222222222222,\"#7201a8\"],[0.3333333333333333,\"#9c179e\"],[0.4444444444444444,\"#bd3786\"],[0.5555555555555556,\"#d8576b\"],[0.6666666666666666,\"#ed7953\"],[0.7777777777777778,\"#fb9f3a\"],[0.8888888888888888,\"#fdca26\"],[1.0,\"#f0f921\"]],\"diverging\":[[0,\"#8e0152\"],[0.1,\"#c51b7d\"],[0.2,\"#de77ae\"],[0.3,\"#f1b6da\"],[0.4,\"#fde0ef\"],[0.5,\"#f7f7f7\"],[0.6,\"#e6f5d0\"],[0.7,\"#b8e186\"],[0.8,\"#7fbc41\"],[0.9,\"#4d9221\"],[1,\"#276419\"]]},\"xaxis\":{\"gridcolor\":\"white\",\"linecolor\":\"white\",\"ticks\":\"\",\"title\":{\"standoff\":15},\"zerolinecolor\":\"white\",\"automargin\":true,\"zerolinewidth\":2},\"yaxis\":{\"gridcolor\":\"white\",\"linecolor\":\"white\",\"ticks\":\"\",\"title\":{\"standoff\":15},\"zerolinecolor\":\"white\",\"automargin\":true,\"zerolinewidth\":2},\"scene\":{\"xaxis\":{\"backgroundcolor\":\"#E5ECF6\",\"gridcolor\":\"white\",\"linecolor\":\"white\",\"showbackground\":true,\"ticks\":\"\",\"zerolinecolor\":\"white\",\"gridwidth\":2},\"yaxis\":{\"backgroundcolor\":\"#E5ECF6\",\"gridcolor\":\"white\",\"linecolor\":\"white\",\"showbackground\":true,\"ticks\":\"\",\"zerolinecolor\":\"white\",\"gridwidth\":2},\"zaxis\":{\"backgroundcolor\":\"#E5ECF6\",\"gridcolor\":\"white\",\"linecolor\":\"white\",\"showbackground\":true,\"ticks\":\"\",\"zerolinecolor\":\"white\",\"gridwidth\":2}},\"shapedefaults\":{\"line\":{\"color\":\"#2a3f5f\"}},\"annotationdefaults\":{\"arrowcolor\":\"#2a3f5f\",\"arrowhead\":0,\"arrowwidth\":1},\"geo\":{\"bgcolor\":\"white\",\"landcolor\":\"#E5ECF6\",\"subunitcolor\":\"white\",\"showland\":true,\"showlakes\":true,\"lakecolor\":\"white\"},\"title\":{\"x\":0.05},\"mapbox\":{\"style\":\"light\"}}}},                        {\"responsive\": true}                    ).then(function(){\n",
              "                            \n",
              "var gd = document.getElementById('78bbdc9c-21d5-41c4-9a1f-3b4a977b7fad');\n",
              "var x = new MutationObserver(function (mutations, observer) {{\n",
              "        var display = window.getComputedStyle(gd).display;\n",
              "        if (!display || display === 'none') {{\n",
              "            console.log([gd, 'removed!']);\n",
              "            Plotly.purge(gd);\n",
              "            observer.disconnect();\n",
              "        }}\n",
              "}});\n",
              "\n",
              "// Listen for the removal of the full notebook cells\n",
              "var notebookContainer = gd.closest('#notebook-container');\n",
              "if (notebookContainer) {{\n",
              "    x.observe(notebookContainer, {childList: true});\n",
              "}}\n",
              "\n",
              "// Listen for the clearing of the current output cell\n",
              "var outputEl = gd.closest('.output');\n",
              "if (outputEl) {{\n",
              "    x.observe(outputEl, {childList: true});\n",
              "}}\n",
              "\n",
              "                        })                };                            </script>        </div>\n",
              "</body>\n",
              "</html>"
            ]
          },
          "metadata": {}
        }
      ]
    },
    {
      "cell_type": "markdown",
      "source": [
        "**Task 2***\n",
        "\n",
        "**Ans**The dimension reduction technique UMAP (Uniform Manifold Approximation and Projection) is often used for presenting high-dimensional data in a lower-dimensional domain. Hyperparameters like n_neighbors and min_dist can have a big impact on the final display.\n",
        "\n",
        "n_neighbors: This parameter specifies the number of nearby points in the lower-dimensional space to which each point in the original high-dimensional space is related.\n",
        "\n",
        "Increasing n_neighbors can lead to a more faithful representation of the original data in the lower-dimensional space, since each point is influenced by more neighbors. However, increasing n_neighbors can also increase the computational complexity of the algorithm, which can make it slower to compute. It can also lead to overcrowding of the visualization since more points will be clustered together.\n",
        "\n",
        "min_dist: This option regulates how densely points are packed in lower-dimensional space. It denotes the shortest distance between points in lower-dimensional space.\n",
        "\n",
        "Reduced min_dist can result in a more compact and dense display with better-defined clusters. Setting min_dist too low, on the other hand, can cause points to overlap, resulting in a distorted or deceptive image. Increasing min_dist can assist to spread out the points and make the visualization more obvious, but it might also eliminate crucial local structure in the data.\n",
        "\n",
        "\n",
        "\n",
        "\n",
        "To summarize, the n_neighbors and min_dist hyperparameters can have an effect on the quality and interpretability of the final UMAP display. The ideal hyperparameters should be chosen based on the analysis's specific aims and the features of the data being examined. To determine the optimal values for a given dataset, it is often advised to experiment with different choices of n_neighbors and min_dist."
      ],
      "metadata": {
        "id": "UKtpjOrzVOc9"
      }
    },
    {
      "cell_type": "markdown",
      "source": [
        "**Task 3** - \n",
        "\n",
        "**Ans** - The sub-clusters inside positive and negative reviews provide information about the many subjects or themes prevalent in the reviews. For example, we might find reviews regarding the melody or singing in the positive reviews sub-clusters, while we might find reviews concerning the lyrics or production quality in the bad reviews sub-clusters. These sub-clusters can be utilized to highlight areas where the song can be improved."
      ],
      "metadata": {
        "id": "j4YyIYruWiDf"
      }
    },
    {
      "cell_type": "code",
      "source": [
        "from sklearn.cluster import KMeans\n",
        "\n",
        "kmeans = KMeans(n_clusters=2, random_state=42)\n",
        "kmeans.fit(embedding)"
      ],
      "metadata": {
        "colab": {
          "base_uri": "https://localhost:8080/",
          "height": 147
        },
        "id": "OrjtPUGVXQmL",
        "outputId": "f2d11521-861b-482f-8608-97b6bb2cefa0"
      },
      "execution_count": null,
      "outputs": [
        {
          "output_type": "stream",
          "name": "stderr",
          "text": [
            "/usr/local/lib/python3.9/dist-packages/sklearn/cluster/_kmeans.py:870: FutureWarning:\n",
            "\n",
            "The default value of `n_init` will change from 10 to 'auto' in 1.4. Set the value of `n_init` explicitly to suppress the warning\n",
            "\n"
          ]
        },
        {
          "output_type": "execute_result",
          "data": {
            "text/plain": [
              "KMeans(n_clusters=2, random_state=42)"
            ],
            "text/html": [
              "<style>#sk-container-id-1 {color: black;background-color: white;}#sk-container-id-1 pre{padding: 0;}#sk-container-id-1 div.sk-toggleable {background-color: white;}#sk-container-id-1 label.sk-toggleable__label {cursor: pointer;display: block;width: 100%;margin-bottom: 0;padding: 0.3em;box-sizing: border-box;text-align: center;}#sk-container-id-1 label.sk-toggleable__label-arrow:before {content: \"▸\";float: left;margin-right: 0.25em;color: #696969;}#sk-container-id-1 label.sk-toggleable__label-arrow:hover:before {color: black;}#sk-container-id-1 div.sk-estimator:hover label.sk-toggleable__label-arrow:before {color: black;}#sk-container-id-1 div.sk-toggleable__content {max-height: 0;max-width: 0;overflow: hidden;text-align: left;background-color: #f0f8ff;}#sk-container-id-1 div.sk-toggleable__content pre {margin: 0.2em;color: black;border-radius: 0.25em;background-color: #f0f8ff;}#sk-container-id-1 input.sk-toggleable__control:checked~div.sk-toggleable__content {max-height: 200px;max-width: 100%;overflow: auto;}#sk-container-id-1 input.sk-toggleable__control:checked~label.sk-toggleable__label-arrow:before {content: \"▾\";}#sk-container-id-1 div.sk-estimator input.sk-toggleable__control:checked~label.sk-toggleable__label {background-color: #d4ebff;}#sk-container-id-1 div.sk-label input.sk-toggleable__control:checked~label.sk-toggleable__label {background-color: #d4ebff;}#sk-container-id-1 input.sk-hidden--visually {border: 0;clip: rect(1px 1px 1px 1px);clip: rect(1px, 1px, 1px, 1px);height: 1px;margin: -1px;overflow: hidden;padding: 0;position: absolute;width: 1px;}#sk-container-id-1 div.sk-estimator {font-family: monospace;background-color: #f0f8ff;border: 1px dotted black;border-radius: 0.25em;box-sizing: border-box;margin-bottom: 0.5em;}#sk-container-id-1 div.sk-estimator:hover {background-color: #d4ebff;}#sk-container-id-1 div.sk-parallel-item::after {content: \"\";width: 100%;border-bottom: 1px solid gray;flex-grow: 1;}#sk-container-id-1 div.sk-label:hover label.sk-toggleable__label {background-color: #d4ebff;}#sk-container-id-1 div.sk-serial::before {content: \"\";position: absolute;border-left: 1px solid gray;box-sizing: border-box;top: 0;bottom: 0;left: 50%;z-index: 0;}#sk-container-id-1 div.sk-serial {display: flex;flex-direction: column;align-items: center;background-color: white;padding-right: 0.2em;padding-left: 0.2em;position: relative;}#sk-container-id-1 div.sk-item {position: relative;z-index: 1;}#sk-container-id-1 div.sk-parallel {display: flex;align-items: stretch;justify-content: center;background-color: white;position: relative;}#sk-container-id-1 div.sk-item::before, #sk-container-id-1 div.sk-parallel-item::before {content: \"\";position: absolute;border-left: 1px solid gray;box-sizing: border-box;top: 0;bottom: 0;left: 50%;z-index: -1;}#sk-container-id-1 div.sk-parallel-item {display: flex;flex-direction: column;z-index: 1;position: relative;background-color: white;}#sk-container-id-1 div.sk-parallel-item:first-child::after {align-self: flex-end;width: 50%;}#sk-container-id-1 div.sk-parallel-item:last-child::after {align-self: flex-start;width: 50%;}#sk-container-id-1 div.sk-parallel-item:only-child::after {width: 0;}#sk-container-id-1 div.sk-dashed-wrapped {border: 1px dashed gray;margin: 0 0.4em 0.5em 0.4em;box-sizing: border-box;padding-bottom: 0.4em;background-color: white;}#sk-container-id-1 div.sk-label label {font-family: monospace;font-weight: bold;display: inline-block;line-height: 1.2em;}#sk-container-id-1 div.sk-label-container {text-align: center;}#sk-container-id-1 div.sk-container {/* jupyter's `normalize.less` sets `[hidden] { display: none; }` but bootstrap.min.css set `[hidden] { display: none !important; }` so we also need the `!important` here to be able to override the default hidden behavior on the sphinx rendered scikit-learn.org. See: https://github.com/scikit-learn/scikit-learn/issues/21755 */display: inline-block !important;position: relative;}#sk-container-id-1 div.sk-text-repr-fallback {display: none;}</style><div id=\"sk-container-id-1\" class=\"sk-top-container\"><div class=\"sk-text-repr-fallback\"><pre>KMeans(n_clusters=2, random_state=42)</pre><b>In a Jupyter environment, please rerun this cell to show the HTML representation or trust the notebook. <br />On GitHub, the HTML representation is unable to render, please try loading this page with nbviewer.org.</b></div><div class=\"sk-container\" hidden><div class=\"sk-item\"><div class=\"sk-estimator sk-toggleable\"><input class=\"sk-toggleable__control sk-hidden--visually\" id=\"sk-estimator-id-1\" type=\"checkbox\" checked><label for=\"sk-estimator-id-1\" class=\"sk-toggleable__label sk-toggleable__label-arrow\">KMeans</label><div class=\"sk-toggleable__content\"><pre>KMeans(n_clusters=2, random_state=42)</pre></div></div></div></div></div>"
            ]
          },
          "metadata": {},
          "execution_count": 21
        }
      ]
    },
    {
      "cell_type": "code",
      "source": [
        " from sklearn.cluster import KMeans\n",
        "from sklearn.decomposition import TruncatedSVD\n",
        "\n",
        "# reduce the dimensionality of the TF-IDF matrix using TruncatedSVD\n",
        "svd = TruncatedSVD(n_components=50)\n",
        "X_svd = svd.fit_transform(tfidf_matrix)\n",
        "\n",
        "# cluster the reviews based on positive and negative sentiments\n",
        "kmeans = KMeans(n_clusters=2, random_state=42)\n",
        "kmeans.fit(X_svd)\n",
        "\n",
        "# get the labels for each review\n",
        "labels = kmeans.labels_\n",
        "\n",
        "pos_indices = [i for i, label in enumerate(labels) if label == 0]\n",
        "neg_indices = [i for i, label in enumerate(labels) if label == 1]\n",
        "\n",
        "# reduce the dimensionality of the positive and negative reviews separately\n",
        "pos_reviews_svd = svd.transform(tfidf_matrix[pos_indices])\n",
        "neg_reviews_svd = svd.transform(tfidf_matrix[neg_indices])\n",
        "\n",
        "# cluster the positive reviews into sub-clusters\n",
        "kmeans_pos = KMeans(n_clusters=2, random_state=42)\n",
        "kmeans_pos.fit(pos_reviews_svd)\n",
        "\n",
        "# get the labels for each positive review\n",
        "pos_labels = kmeans_pos.labels_\n",
        "\n",
        "# cluster the negative reviews into sub-clusters\n",
        "kmeans_neg = KMeans(n_clusters=2, random_state=42)\n",
        "kmeans_neg.fit(neg_reviews_svd)\n",
        "\n",
        "# get the labels for each negative review\n",
        "neg_labels = kmeans_neg.labels_\n"
      ],
      "metadata": {
        "colab": {
          "base_uri": "https://localhost:8080/"
        },
        "id": "lzG_yt3nXQvq",
        "outputId": "9ecd9dbf-323d-4584-9951-e7a65225b18f"
      },
      "execution_count": null,
      "outputs": [
        {
          "output_type": "stream",
          "name": "stderr",
          "text": [
            "/usr/local/lib/python3.9/dist-packages/sklearn/cluster/_kmeans.py:870: FutureWarning:\n",
            "\n",
            "The default value of `n_init` will change from 10 to 'auto' in 1.4. Set the value of `n_init` explicitly to suppress the warning\n",
            "\n",
            "/usr/local/lib/python3.9/dist-packages/sklearn/cluster/_kmeans.py:870: FutureWarning:\n",
            "\n",
            "The default value of `n_init` will change from 10 to 'auto' in 1.4. Set the value of `n_init` explicitly to suppress the warning\n",
            "\n",
            "/usr/local/lib/python3.9/dist-packages/sklearn/cluster/_kmeans.py:870: FutureWarning:\n",
            "\n",
            "The default value of `n_init` will change from 10 to 'auto' in 1.4. Set the value of `n_init` explicitly to suppress the warning\n",
            "\n"
          ]
        }
      ]
    }
  ]
}